{
 "cells": [
  {
   "cell_type": "markdown",
   "id": "1555217a",
   "metadata": {
    "ExecuteTime": {
     "end_time": "2025-02-27T03:35:29.257201Z",
     "start_time": "2025-02-27T03:35:29.254298Z"
    }
   },
   "source": [
    "## 数据读入以及数据特征描述"
   ]
  },
  {
   "cell_type": "code",
   "execution_count": 64,
   "id": "632ff03ec8136857",
   "metadata": {
    "ExecuteTime": {
     "end_time": "2025-02-28T08:49:38.371833Z",
     "start_time": "2025-02-28T08:49:11.495079Z"
    },
    "scrolled": false
   },
   "outputs": [
    {
     "name": "stdout",
     "output_type": "stream",
     "text": [
      "               Id         groupId         matchId  assists  boosts  \\\n",
      "0  7f96b2f878858a  4d4b580de459be  a10357fd1a4a91        0       0   \n",
      "1  eef90569b9d03c  684d5656442f9e  aeb375fc57110c        0       0   \n",
      "2  1eaf90ac73de72  6a4a42c3245a74  110163d8bb94ae        1       0   \n",
      "3  4616d365dd2853  a930a9c79cd721  f1f1f4ef412d7e        0       0   \n",
      "4  315c96c26c9aac  de04010b3458dd  6dc8ff871e21e6        0       0   \n",
      "\n",
      "   damageDealt  DBNOs  headshotKills  heals  killPlace  ...  revives  \\\n",
      "0         0.00      0              0      0         60  ...        0   \n",
      "1        91.47      0              0      0         57  ...        0   \n",
      "2        68.00      0              0      0         47  ...        0   \n",
      "3        32.90      0              0      0         75  ...        0   \n",
      "4       100.00      0              0      0         45  ...        0   \n",
      "\n",
      "   rideDistance  roadKills  swimDistance  teamKills vehicleDestroys  \\\n",
      "0        0.0000          0          0.00          0               0   \n",
      "1        0.0045          0         11.04          0               0   \n",
      "2        0.0000          0          0.00          0               0   \n",
      "3        0.0000          0          0.00          0               0   \n",
      "4        0.0000          0          0.00          0               0   \n",
      "\n",
      "   walkDistance  weaponsAcquired  winPoints  winPlacePerc  \n",
      "0        244.80                1       1466        0.4444  \n",
      "1       1434.00                5          0        0.6400  \n",
      "2        161.80                2          0        0.7755  \n",
      "3        202.70                3          0        0.1667  \n",
      "4         49.75                2          0        0.1875  \n",
      "\n",
      "[5 rows x 29 columns]\n",
      "                     Id         groupId         matchId  assists  boosts  \\\n",
      "4446961  afff7f652dbc10  d238e426f50de7  18492834ce5635        0       0   \n",
      "4446962  f4197cf374e6c0  408cdb5c46b2ac  ee854b837376d9        0       1   \n",
      "4446963  e1948b1295c88a  e26ac84bdf7cef  6d0cd12784f1ab        0       0   \n",
      "4446964  cc032cdd73b7ac  c2223f35411394  c9c701d0ad758a        0       4   \n",
      "4446965  0d8e7ed728b6fd  8c74f72fedf5ff  62a16aabcc095c        0       2   \n",
      "\n",
      "         damageDealt  DBNOs  headshotKills  heals  killPlace  ...  revives  \\\n",
      "4446961         0.00      0              0      0         74  ...        0   \n",
      "4446962        44.15      0              0      0         69  ...        0   \n",
      "4446963        59.06      0              0      0         66  ...        0   \n",
      "4446964       180.40      1              1      2         11  ...        2   \n",
      "4446965       268.00      0              0      1         18  ...        0   \n",
      "\n",
      "         rideDistance  roadKills  swimDistance  teamKills vehicleDestroys  \\\n",
      "4446961        1292.0          0         0.000          0               0   \n",
      "4446962           0.0          0         0.000          0               0   \n",
      "4446963           0.0          0         2.184          0               0   \n",
      "4446964           0.0          0         0.000          0               0   \n",
      "4446965        1369.0          0         0.000          0               0   \n",
      "\n",
      "         walkDistance  weaponsAcquired  winPoints  winPlacePerc  \n",
      "4446961        1019.0                3       1507        0.1786  \n",
      "4446962          81.7                6          0        0.2935  \n",
      "4446963         788.7                4          0        0.4815  \n",
      "4446964        2748.0                8          0        0.8000  \n",
      "4446965        1244.0                5          0        0.5464  \n",
      "\n",
      "[5 rows x 29 columns]\n",
      "            assists        boosts   damageDealt         DBNOs  headshotKills  \\\n",
      "count  4.446966e+06  4.446966e+06  4.446966e+06  4.446966e+06   4.446966e+06   \n",
      "mean   2.338149e-01  1.106908e+00  1.307171e+02  6.578755e-01   2.268196e-01   \n",
      "std    5.885731e-01  1.715794e+00  1.707806e+02  1.145743e+00   6.021553e-01   \n",
      "min    0.000000e+00  0.000000e+00  0.000000e+00  0.000000e+00   0.000000e+00   \n",
      "25%    0.000000e+00  0.000000e+00  0.000000e+00  0.000000e+00   0.000000e+00   \n",
      "50%    0.000000e+00  0.000000e+00  8.424000e+01  0.000000e+00   0.000000e+00   \n",
      "75%    0.000000e+00  2.000000e+00  1.860000e+02  1.000000e+00   0.000000e+00   \n",
      "max    2.200000e+01  3.300000e+01  6.616000e+03  5.300000e+01   6.400000e+01   \n",
      "\n",
      "              heals     killPlace    killPoints         kills   killStreaks  \\\n",
      "count  4.446966e+06  4.446966e+06  4.446966e+06  4.446966e+06  4.446966e+06   \n",
      "mean   1.370147e+00  4.759935e+01  5.050060e+02  9.247833e-01  5.439551e-01   \n",
      "std    2.679982e+00  2.746294e+01  6.275049e+02  1.558445e+00  7.109721e-01   \n",
      "min    0.000000e+00  1.000000e+00  0.000000e+00  0.000000e+00  0.000000e+00   \n",
      "25%    0.000000e+00  2.400000e+01  0.000000e+00  0.000000e+00  0.000000e+00   \n",
      "50%    0.000000e+00  4.700000e+01  0.000000e+00  0.000000e+00  0.000000e+00   \n",
      "75%    2.000000e+00  7.100000e+01  1.172000e+03  1.000000e+00  1.000000e+00   \n",
      "max    8.000000e+01  1.010000e+02  2.170000e+03  7.200000e+01  2.000000e+01   \n",
      "\n",
      "       ...       revives  rideDistance     roadKills  swimDistance  \\\n",
      "count  ...  4.446966e+06  4.446966e+06  4.446966e+06  4.446966e+06   \n",
      "mean   ...  1.646590e-01  6.061157e+02  3.496091e-03  4.509322e+00   \n",
      "std    ...  4.721671e-01  1.498344e+03  7.337297e-02  3.050220e+01   \n",
      "min    ...  0.000000e+00  0.000000e+00  0.000000e+00  0.000000e+00   \n",
      "25%    ...  0.000000e+00  0.000000e+00  0.000000e+00  0.000000e+00   \n",
      "50%    ...  0.000000e+00  0.000000e+00  0.000000e+00  0.000000e+00   \n",
      "75%    ...  0.000000e+00  1.909750e-01  0.000000e+00  0.000000e+00   \n",
      "max    ...  3.900000e+01  4.071000e+04  1.800000e+01  3.823000e+03   \n",
      "\n",
      "          teamKills  vehicleDestroys  walkDistance  weaponsAcquired  \\\n",
      "count  4.446966e+06     4.446966e+06  4.446966e+06     4.446966e+06   \n",
      "mean   2.386841e-02     7.918208e-03  1.154218e+03     3.660488e+00   \n",
      "std    1.673935e-01     9.261157e-02  1.183497e+03     2.456544e+00   \n",
      "min    0.000000e+00     0.000000e+00  0.000000e+00     0.000000e+00   \n",
      "25%    0.000000e+00     0.000000e+00  1.551000e+02     2.000000e+00   \n",
      "50%    0.000000e+00     0.000000e+00  6.856000e+02     3.000000e+00   \n",
      "75%    0.000000e+00     0.000000e+00  1.976000e+03     5.000000e+00   \n",
      "max    1.200000e+01     5.000000e+00  2.578000e+04     2.360000e+02   \n",
      "\n",
      "          winPoints  winPlacePerc  \n",
      "count  4.446966e+06  4.446965e+06  \n",
      "mean   6.064601e+02  4.728216e-01  \n",
      "std    7.397004e+02  3.074050e-01  \n",
      "min    0.000000e+00  0.000000e+00  \n",
      "25%    0.000000e+00  2.000000e-01  \n",
      "50%    0.000000e+00  4.583000e-01  \n",
      "75%    1.495000e+03  7.407000e-01  \n",
      "max    2.013000e+03  1.000000e+00  \n",
      "\n",
      "[8 rows x 25 columns]\n",
      "<class 'pandas.core.frame.DataFrame'>\n",
      "RangeIndex: 4446966 entries, 0 to 4446965\n",
      "Data columns (total 29 columns):\n",
      " #   Column           Dtype  \n",
      "---  ------           -----  \n",
      " 0   Id               object \n",
      " 1   groupId          object \n",
      " 2   matchId          object \n",
      " 3   assists          int64  \n",
      " 4   boosts           int64  \n",
      " 5   damageDealt      float64\n",
      " 6   DBNOs            int64  \n",
      " 7   headshotKills    int64  \n",
      " 8   heals            int64  \n",
      " 9   killPlace        int64  \n",
      " 10  killPoints       int64  \n",
      " 11  kills            int64  \n",
      " 12  killStreaks      int64  \n",
      " 13  longestKill      float64\n",
      " 14  matchDuration    int64  \n",
      " 15  matchType        object \n",
      " 16  maxPlace         int64  \n",
      " 17  numGroups        int64  \n",
      " 18  rankPoints       int64  \n",
      " 19  revives          int64  \n",
      " 20  rideDistance     float64\n",
      " 21  roadKills        int64  \n",
      " 22  swimDistance     float64\n",
      " 23  teamKills        int64  \n",
      " 24  vehicleDestroys  int64  \n",
      " 25  walkDistance     float64\n",
      " 26  weaponsAcquired  int64  \n",
      " 27  winPoints        int64  \n",
      " 28  winPlacePerc     float64\n",
      "dtypes: float64(6), int64(19), object(4)\n",
      "memory usage: 983.9+ MB\n",
      "None\n",
      "(47965,)\n",
      "(2026745,)\n"
     ]
    }
   ],
   "source": [
    "import numpy as np\n",
    "import lightgbm as lgb\n",
    "from gmpy2 import random_state\n",
    "from lightgbm import early_stopping\n",
    "from sklearn.datasets import make_classification\n",
    "from sklearn.model_selection import train_test_split\n",
    "from sklearn.metrics import accuracy_score, roc_auc_score\n",
    "import matplotlib.pyplot as plt\n",
    "import pandas as pd\n",
    "from sklearn.preprocessing import LabelEncoder\n",
    "from sklearn.metrics import accuracy_score, classification_report\n",
    "from sklearn.model_selection import train_test_split\n",
    "from sklearn.metrics import mean_squared_error\n",
    "from sklearn.datasets import load_iris\n",
    "from sklearn.model_selection import train_test_split\n",
    "from sklearn.model_selection import GridSearchCV\n",
    "from sklearn.metrics import mean_absolute_error\n",
    "import lightgbm as lgb\n",
    "from tensorflow import estimator\n",
    "\n",
    "\n",
    "\n",
    "df = pd.read_csv(\"pubg_data/train_V2.csv\")\n",
    "\n",
    "print(df.head())\n",
    "print(df.tail())\n",
    "print(df.describe())#常用信息\n",
    "print(df.info())#各列信息\n",
    "print(np.unique(df['matchId']).shape)#比赛数(排除了重复项\n",
    "print(np.unique(df['groupId']).shape)#队伍数(排除了重复项"
   ]
  },
  {
   "cell_type": "markdown",
   "id": "e426edef",
   "metadata": {},
   "source": [
    "#### 查找空数据,数量较少直接删除"
   ]
  },
  {
   "cell_type": "code",
   "execution_count": 65,
   "id": "3e66675012fc531d",
   "metadata": {
    "ExecuteTime": {
     "end_time": "2025-02-28T08:49:40.171684Z",
     "start_time": "2025-02-28T08:49:38.390882Z"
    }
   },
   "outputs": [
    {
     "data": {
      "text/html": [
       "<div>\n",
       "<style scoped>\n",
       "    .dataframe tbody tr th:only-of-type {\n",
       "        vertical-align: middle;\n",
       "    }\n",
       "\n",
       "    .dataframe tbody tr th {\n",
       "        vertical-align: top;\n",
       "    }\n",
       "\n",
       "    .dataframe thead th {\n",
       "        text-align: right;\n",
       "    }\n",
       "</style>\n",
       "<table border=\"1\" class=\"dataframe\">\n",
       "  <thead>\n",
       "    <tr style=\"text-align: right;\">\n",
       "      <th></th>\n",
       "      <th>Id</th>\n",
       "      <th>groupId</th>\n",
       "      <th>matchId</th>\n",
       "      <th>assists</th>\n",
       "      <th>boosts</th>\n",
       "      <th>damageDealt</th>\n",
       "      <th>DBNOs</th>\n",
       "      <th>headshotKills</th>\n",
       "      <th>heals</th>\n",
       "      <th>killPlace</th>\n",
       "      <th>...</th>\n",
       "      <th>revives</th>\n",
       "      <th>rideDistance</th>\n",
       "      <th>roadKills</th>\n",
       "      <th>swimDistance</th>\n",
       "      <th>teamKills</th>\n",
       "      <th>vehicleDestroys</th>\n",
       "      <th>walkDistance</th>\n",
       "      <th>weaponsAcquired</th>\n",
       "      <th>winPoints</th>\n",
       "      <th>winPlacePerc</th>\n",
       "    </tr>\n",
       "  </thead>\n",
       "  <tbody>\n",
       "    <tr>\n",
       "      <th>0</th>\n",
       "      <td>False</td>\n",
       "      <td>False</td>\n",
       "      <td>False</td>\n",
       "      <td>False</td>\n",
       "      <td>False</td>\n",
       "      <td>False</td>\n",
       "      <td>False</td>\n",
       "      <td>False</td>\n",
       "      <td>False</td>\n",
       "      <td>False</td>\n",
       "      <td>...</td>\n",
       "      <td>False</td>\n",
       "      <td>False</td>\n",
       "      <td>False</td>\n",
       "      <td>False</td>\n",
       "      <td>False</td>\n",
       "      <td>False</td>\n",
       "      <td>False</td>\n",
       "      <td>False</td>\n",
       "      <td>False</td>\n",
       "      <td>False</td>\n",
       "    </tr>\n",
       "    <tr>\n",
       "      <th>1</th>\n",
       "      <td>False</td>\n",
       "      <td>False</td>\n",
       "      <td>False</td>\n",
       "      <td>False</td>\n",
       "      <td>False</td>\n",
       "      <td>False</td>\n",
       "      <td>False</td>\n",
       "      <td>False</td>\n",
       "      <td>False</td>\n",
       "      <td>False</td>\n",
       "      <td>...</td>\n",
       "      <td>False</td>\n",
       "      <td>False</td>\n",
       "      <td>False</td>\n",
       "      <td>False</td>\n",
       "      <td>False</td>\n",
       "      <td>False</td>\n",
       "      <td>False</td>\n",
       "      <td>False</td>\n",
       "      <td>False</td>\n",
       "      <td>False</td>\n",
       "    </tr>\n",
       "    <tr>\n",
       "      <th>2</th>\n",
       "      <td>False</td>\n",
       "      <td>False</td>\n",
       "      <td>False</td>\n",
       "      <td>False</td>\n",
       "      <td>False</td>\n",
       "      <td>False</td>\n",
       "      <td>False</td>\n",
       "      <td>False</td>\n",
       "      <td>False</td>\n",
       "      <td>False</td>\n",
       "      <td>...</td>\n",
       "      <td>False</td>\n",
       "      <td>False</td>\n",
       "      <td>False</td>\n",
       "      <td>False</td>\n",
       "      <td>False</td>\n",
       "      <td>False</td>\n",
       "      <td>False</td>\n",
       "      <td>False</td>\n",
       "      <td>False</td>\n",
       "      <td>False</td>\n",
       "    </tr>\n",
       "    <tr>\n",
       "      <th>3</th>\n",
       "      <td>False</td>\n",
       "      <td>False</td>\n",
       "      <td>False</td>\n",
       "      <td>False</td>\n",
       "      <td>False</td>\n",
       "      <td>False</td>\n",
       "      <td>False</td>\n",
       "      <td>False</td>\n",
       "      <td>False</td>\n",
       "      <td>False</td>\n",
       "      <td>...</td>\n",
       "      <td>False</td>\n",
       "      <td>False</td>\n",
       "      <td>False</td>\n",
       "      <td>False</td>\n",
       "      <td>False</td>\n",
       "      <td>False</td>\n",
       "      <td>False</td>\n",
       "      <td>False</td>\n",
       "      <td>False</td>\n",
       "      <td>False</td>\n",
       "    </tr>\n",
       "    <tr>\n",
       "      <th>4</th>\n",
       "      <td>False</td>\n",
       "      <td>False</td>\n",
       "      <td>False</td>\n",
       "      <td>False</td>\n",
       "      <td>False</td>\n",
       "      <td>False</td>\n",
       "      <td>False</td>\n",
       "      <td>False</td>\n",
       "      <td>False</td>\n",
       "      <td>False</td>\n",
       "      <td>...</td>\n",
       "      <td>False</td>\n",
       "      <td>False</td>\n",
       "      <td>False</td>\n",
       "      <td>False</td>\n",
       "      <td>False</td>\n",
       "      <td>False</td>\n",
       "      <td>False</td>\n",
       "      <td>False</td>\n",
       "      <td>False</td>\n",
       "      <td>False</td>\n",
       "    </tr>\n",
       "    <tr>\n",
       "      <th>...</th>\n",
       "      <td>...</td>\n",
       "      <td>...</td>\n",
       "      <td>...</td>\n",
       "      <td>...</td>\n",
       "      <td>...</td>\n",
       "      <td>...</td>\n",
       "      <td>...</td>\n",
       "      <td>...</td>\n",
       "      <td>...</td>\n",
       "      <td>...</td>\n",
       "      <td>...</td>\n",
       "      <td>...</td>\n",
       "      <td>...</td>\n",
       "      <td>...</td>\n",
       "      <td>...</td>\n",
       "      <td>...</td>\n",
       "      <td>...</td>\n",
       "      <td>...</td>\n",
       "      <td>...</td>\n",
       "      <td>...</td>\n",
       "      <td>...</td>\n",
       "    </tr>\n",
       "    <tr>\n",
       "      <th>4446961</th>\n",
       "      <td>False</td>\n",
       "      <td>False</td>\n",
       "      <td>False</td>\n",
       "      <td>False</td>\n",
       "      <td>False</td>\n",
       "      <td>False</td>\n",
       "      <td>False</td>\n",
       "      <td>False</td>\n",
       "      <td>False</td>\n",
       "      <td>False</td>\n",
       "      <td>...</td>\n",
       "      <td>False</td>\n",
       "      <td>False</td>\n",
       "      <td>False</td>\n",
       "      <td>False</td>\n",
       "      <td>False</td>\n",
       "      <td>False</td>\n",
       "      <td>False</td>\n",
       "      <td>False</td>\n",
       "      <td>False</td>\n",
       "      <td>False</td>\n",
       "    </tr>\n",
       "    <tr>\n",
       "      <th>4446962</th>\n",
       "      <td>False</td>\n",
       "      <td>False</td>\n",
       "      <td>False</td>\n",
       "      <td>False</td>\n",
       "      <td>False</td>\n",
       "      <td>False</td>\n",
       "      <td>False</td>\n",
       "      <td>False</td>\n",
       "      <td>False</td>\n",
       "      <td>False</td>\n",
       "      <td>...</td>\n",
       "      <td>False</td>\n",
       "      <td>False</td>\n",
       "      <td>False</td>\n",
       "      <td>False</td>\n",
       "      <td>False</td>\n",
       "      <td>False</td>\n",
       "      <td>False</td>\n",
       "      <td>False</td>\n",
       "      <td>False</td>\n",
       "      <td>False</td>\n",
       "    </tr>\n",
       "    <tr>\n",
       "      <th>4446963</th>\n",
       "      <td>False</td>\n",
       "      <td>False</td>\n",
       "      <td>False</td>\n",
       "      <td>False</td>\n",
       "      <td>False</td>\n",
       "      <td>False</td>\n",
       "      <td>False</td>\n",
       "      <td>False</td>\n",
       "      <td>False</td>\n",
       "      <td>False</td>\n",
       "      <td>...</td>\n",
       "      <td>False</td>\n",
       "      <td>False</td>\n",
       "      <td>False</td>\n",
       "      <td>False</td>\n",
       "      <td>False</td>\n",
       "      <td>False</td>\n",
       "      <td>False</td>\n",
       "      <td>False</td>\n",
       "      <td>False</td>\n",
       "      <td>False</td>\n",
       "    </tr>\n",
       "    <tr>\n",
       "      <th>4446964</th>\n",
       "      <td>False</td>\n",
       "      <td>False</td>\n",
       "      <td>False</td>\n",
       "      <td>False</td>\n",
       "      <td>False</td>\n",
       "      <td>False</td>\n",
       "      <td>False</td>\n",
       "      <td>False</td>\n",
       "      <td>False</td>\n",
       "      <td>False</td>\n",
       "      <td>...</td>\n",
       "      <td>False</td>\n",
       "      <td>False</td>\n",
       "      <td>False</td>\n",
       "      <td>False</td>\n",
       "      <td>False</td>\n",
       "      <td>False</td>\n",
       "      <td>False</td>\n",
       "      <td>False</td>\n",
       "      <td>False</td>\n",
       "      <td>False</td>\n",
       "    </tr>\n",
       "    <tr>\n",
       "      <th>4446965</th>\n",
       "      <td>False</td>\n",
       "      <td>False</td>\n",
       "      <td>False</td>\n",
       "      <td>False</td>\n",
       "      <td>False</td>\n",
       "      <td>False</td>\n",
       "      <td>False</td>\n",
       "      <td>False</td>\n",
       "      <td>False</td>\n",
       "      <td>False</td>\n",
       "      <td>...</td>\n",
       "      <td>False</td>\n",
       "      <td>False</td>\n",
       "      <td>False</td>\n",
       "      <td>False</td>\n",
       "      <td>False</td>\n",
       "      <td>False</td>\n",
       "      <td>False</td>\n",
       "      <td>False</td>\n",
       "      <td>False</td>\n",
       "      <td>False</td>\n",
       "    </tr>\n",
       "  </tbody>\n",
       "</table>\n",
       "<p>4446966 rows × 29 columns</p>\n",
       "</div>"
      ],
      "text/plain": [
       "            Id  groupId  matchId  assists  boosts  damageDealt  DBNOs  \\\n",
       "0        False    False    False    False   False        False  False   \n",
       "1        False    False    False    False   False        False  False   \n",
       "2        False    False    False    False   False        False  False   \n",
       "3        False    False    False    False   False        False  False   \n",
       "4        False    False    False    False   False        False  False   \n",
       "...        ...      ...      ...      ...     ...          ...    ...   \n",
       "4446961  False    False    False    False   False        False  False   \n",
       "4446962  False    False    False    False   False        False  False   \n",
       "4446963  False    False    False    False   False        False  False   \n",
       "4446964  False    False    False    False   False        False  False   \n",
       "4446965  False    False    False    False   False        False  False   \n",
       "\n",
       "         headshotKills  heals  killPlace  ...  revives  rideDistance  \\\n",
       "0                False  False      False  ...    False         False   \n",
       "1                False  False      False  ...    False         False   \n",
       "2                False  False      False  ...    False         False   \n",
       "3                False  False      False  ...    False         False   \n",
       "4                False  False      False  ...    False         False   \n",
       "...                ...    ...        ...  ...      ...           ...   \n",
       "4446961          False  False      False  ...    False         False   \n",
       "4446962          False  False      False  ...    False         False   \n",
       "4446963          False  False      False  ...    False         False   \n",
       "4446964          False  False      False  ...    False         False   \n",
       "4446965          False  False      False  ...    False         False   \n",
       "\n",
       "         roadKills  swimDistance  teamKills  vehicleDestroys  walkDistance  \\\n",
       "0            False         False      False            False         False   \n",
       "1            False         False      False            False         False   \n",
       "2            False         False      False            False         False   \n",
       "3            False         False      False            False         False   \n",
       "4            False         False      False            False         False   \n",
       "...            ...           ...        ...              ...           ...   \n",
       "4446961      False         False      False            False         False   \n",
       "4446962      False         False      False            False         False   \n",
       "4446963      False         False      False            False         False   \n",
       "4446964      False         False      False            False         False   \n",
       "4446965      False         False      False            False         False   \n",
       "\n",
       "         weaponsAcquired  winPoints  winPlacePerc  \n",
       "0                  False      False         False  \n",
       "1                  False      False         False  \n",
       "2                  False      False         False  \n",
       "3                  False      False         False  \n",
       "4                  False      False         False  \n",
       "...                  ...        ...           ...  \n",
       "4446961            False      False         False  \n",
       "4446962            False      False         False  \n",
       "4446963            False      False         False  \n",
       "4446964            False      False         False  \n",
       "4446965            False      False         False  \n",
       "\n",
       "[4446966 rows x 29 columns]"
      ]
     },
     "execution_count": 65,
     "metadata": {},
     "output_type": "execute_result"
    }
   ],
   "source": [
    "df.isnull()"
   ]
  },
  {
   "cell_type": "markdown",
   "id": "c47175010846f39",
   "metadata": {},
   "source": []
  },
  {
   "cell_type": "code",
   "execution_count": 66,
   "id": "c096311d5801e2db",
   "metadata": {
    "ExecuteTime": {
     "end_time": "2025-02-28T08:49:41.786156Z",
     "start_time": "2025-02-28T08:49:40.328895Z"
    }
   },
   "outputs": [
    {
     "data": {
      "text/plain": [
       "True"
      ]
     },
     "execution_count": 66,
     "metadata": {},
     "output_type": "execute_result"
    }
   ],
   "source": [
    "np.any(df.isnull())"
   ]
  },
  {
   "cell_type": "code",
   "execution_count": 67,
   "id": "bce3350a5ffd1a06",
   "metadata": {
    "ExecuteTime": {
     "end_time": "2025-02-28T08:49:41.838721Z",
     "start_time": "2025-02-28T08:49:41.823143Z"
    }
   },
   "outputs": [],
   "source": [
    "df[df['winPlacePerc'].isnull()]\n",
    "train=df"
   ]
  },
  {
   "cell_type": "code",
   "execution_count": 68,
   "id": "5a9919c4",
   "metadata": {
    "ExecuteTime": {
     "end_time": "2025-02-28T08:49:42.610078Z",
     "start_time": "2025-02-28T08:49:41.901573Z"
    }
   },
   "outputs": [
    {
     "data": {
      "text/plain": [
       "(4446965, 29)"
      ]
     },
     "execution_count": 68,
     "metadata": {},
     "output_type": "execute_result"
    }
   ],
   "source": [
    "train.drop(2744604, inplace=True)\n",
    "train.shape"
   ]
  },
  {
   "cell_type": "code",
   "execution_count": 69,
   "id": "ed8e1d7c",
   "metadata": {
    "ExecuteTime": {
     "end_time": "2025-02-28T08:49:43.297574Z",
     "start_time": "2025-02-28T08:49:42.645118Z"
    }
   },
   "outputs": [
    {
     "data": {
      "text/html": [
       "<div>\n",
       "<style scoped>\n",
       "    .dataframe tbody tr th:only-of-type {\n",
       "        vertical-align: middle;\n",
       "    }\n",
       "\n",
       "    .dataframe tbody tr th {\n",
       "        vertical-align: top;\n",
       "    }\n",
       "\n",
       "    .dataframe thead th {\n",
       "        text-align: right;\n",
       "    }\n",
       "</style>\n",
       "<table border=\"1\" class=\"dataframe\">\n",
       "  <thead>\n",
       "    <tr style=\"text-align: right;\">\n",
       "      <th></th>\n",
       "      <th>Id</th>\n",
       "      <th>groupId</th>\n",
       "      <th>matchId</th>\n",
       "      <th>assists</th>\n",
       "      <th>boosts</th>\n",
       "      <th>damageDealt</th>\n",
       "      <th>DBNOs</th>\n",
       "      <th>headshotKills</th>\n",
       "      <th>heals</th>\n",
       "      <th>killPlace</th>\n",
       "      <th>...</th>\n",
       "      <th>rideDistance</th>\n",
       "      <th>roadKills</th>\n",
       "      <th>swimDistance</th>\n",
       "      <th>teamKills</th>\n",
       "      <th>vehicleDestroys</th>\n",
       "      <th>walkDistance</th>\n",
       "      <th>weaponsAcquired</th>\n",
       "      <th>winPoints</th>\n",
       "      <th>winPlacePerc</th>\n",
       "      <th>playersJoined</th>\n",
       "    </tr>\n",
       "  </thead>\n",
       "  <tbody>\n",
       "    <tr>\n",
       "      <th>0</th>\n",
       "      <td>7f96b2f878858a</td>\n",
       "      <td>4d4b580de459be</td>\n",
       "      <td>a10357fd1a4a91</td>\n",
       "      <td>0</td>\n",
       "      <td>0</td>\n",
       "      <td>0.00</td>\n",
       "      <td>0</td>\n",
       "      <td>0</td>\n",
       "      <td>0</td>\n",
       "      <td>60</td>\n",
       "      <td>...</td>\n",
       "      <td>0.0000</td>\n",
       "      <td>0</td>\n",
       "      <td>0.00</td>\n",
       "      <td>0</td>\n",
       "      <td>0</td>\n",
       "      <td>244.80</td>\n",
       "      <td>1</td>\n",
       "      <td>1466</td>\n",
       "      <td>0.4444</td>\n",
       "      <td>96</td>\n",
       "    </tr>\n",
       "    <tr>\n",
       "      <th>1</th>\n",
       "      <td>eef90569b9d03c</td>\n",
       "      <td>684d5656442f9e</td>\n",
       "      <td>aeb375fc57110c</td>\n",
       "      <td>0</td>\n",
       "      <td>0</td>\n",
       "      <td>91.47</td>\n",
       "      <td>0</td>\n",
       "      <td>0</td>\n",
       "      <td>0</td>\n",
       "      <td>57</td>\n",
       "      <td>...</td>\n",
       "      <td>0.0045</td>\n",
       "      <td>0</td>\n",
       "      <td>11.04</td>\n",
       "      <td>0</td>\n",
       "      <td>0</td>\n",
       "      <td>1434.00</td>\n",
       "      <td>5</td>\n",
       "      <td>0</td>\n",
       "      <td>0.6400</td>\n",
       "      <td>91</td>\n",
       "    </tr>\n",
       "    <tr>\n",
       "      <th>2</th>\n",
       "      <td>1eaf90ac73de72</td>\n",
       "      <td>6a4a42c3245a74</td>\n",
       "      <td>110163d8bb94ae</td>\n",
       "      <td>1</td>\n",
       "      <td>0</td>\n",
       "      <td>68.00</td>\n",
       "      <td>0</td>\n",
       "      <td>0</td>\n",
       "      <td>0</td>\n",
       "      <td>47</td>\n",
       "      <td>...</td>\n",
       "      <td>0.0000</td>\n",
       "      <td>0</td>\n",
       "      <td>0.00</td>\n",
       "      <td>0</td>\n",
       "      <td>0</td>\n",
       "      <td>161.80</td>\n",
       "      <td>2</td>\n",
       "      <td>0</td>\n",
       "      <td>0.7755</td>\n",
       "      <td>98</td>\n",
       "    </tr>\n",
       "    <tr>\n",
       "      <th>3</th>\n",
       "      <td>4616d365dd2853</td>\n",
       "      <td>a930a9c79cd721</td>\n",
       "      <td>f1f1f4ef412d7e</td>\n",
       "      <td>0</td>\n",
       "      <td>0</td>\n",
       "      <td>32.90</td>\n",
       "      <td>0</td>\n",
       "      <td>0</td>\n",
       "      <td>0</td>\n",
       "      <td>75</td>\n",
       "      <td>...</td>\n",
       "      <td>0.0000</td>\n",
       "      <td>0</td>\n",
       "      <td>0.00</td>\n",
       "      <td>0</td>\n",
       "      <td>0</td>\n",
       "      <td>202.70</td>\n",
       "      <td>3</td>\n",
       "      <td>0</td>\n",
       "      <td>0.1667</td>\n",
       "      <td>91</td>\n",
       "    </tr>\n",
       "    <tr>\n",
       "      <th>4</th>\n",
       "      <td>315c96c26c9aac</td>\n",
       "      <td>de04010b3458dd</td>\n",
       "      <td>6dc8ff871e21e6</td>\n",
       "      <td>0</td>\n",
       "      <td>0</td>\n",
       "      <td>100.00</td>\n",
       "      <td>0</td>\n",
       "      <td>0</td>\n",
       "      <td>0</td>\n",
       "      <td>45</td>\n",
       "      <td>...</td>\n",
       "      <td>0.0000</td>\n",
       "      <td>0</td>\n",
       "      <td>0.00</td>\n",
       "      <td>0</td>\n",
       "      <td>0</td>\n",
       "      <td>49.75</td>\n",
       "      <td>2</td>\n",
       "      <td>0</td>\n",
       "      <td>0.1875</td>\n",
       "      <td>97</td>\n",
       "    </tr>\n",
       "  </tbody>\n",
       "</table>\n",
       "<p>5 rows × 30 columns</p>\n",
       "</div>"
      ],
      "text/plain": [
       "               Id         groupId         matchId  assists  boosts  \\\n",
       "0  7f96b2f878858a  4d4b580de459be  a10357fd1a4a91        0       0   \n",
       "1  eef90569b9d03c  684d5656442f9e  aeb375fc57110c        0       0   \n",
       "2  1eaf90ac73de72  6a4a42c3245a74  110163d8bb94ae        1       0   \n",
       "3  4616d365dd2853  a930a9c79cd721  f1f1f4ef412d7e        0       0   \n",
       "4  315c96c26c9aac  de04010b3458dd  6dc8ff871e21e6        0       0   \n",
       "\n",
       "   damageDealt  DBNOs  headshotKills  heals  killPlace  ...  rideDistance  \\\n",
       "0         0.00      0              0      0         60  ...        0.0000   \n",
       "1        91.47      0              0      0         57  ...        0.0045   \n",
       "2        68.00      0              0      0         47  ...        0.0000   \n",
       "3        32.90      0              0      0         75  ...        0.0000   \n",
       "4       100.00      0              0      0         45  ...        0.0000   \n",
       "\n",
       "   roadKills  swimDistance  teamKills  vehicleDestroys walkDistance  \\\n",
       "0          0          0.00          0                0       244.80   \n",
       "1          0         11.04          0                0      1434.00   \n",
       "2          0          0.00          0                0       161.80   \n",
       "3          0          0.00          0                0       202.70   \n",
       "4          0          0.00          0                0        49.75   \n",
       "\n",
       "   weaponsAcquired  winPoints  winPlacePerc  playersJoined  \n",
       "0                1       1466        0.4444             96  \n",
       "1                5          0        0.6400             91  \n",
       "2                2          0        0.7755             98  \n",
       "3                3          0        0.1667             91  \n",
       "4                2          0        0.1875             97  \n",
       "\n",
       "[5 rows x 30 columns]"
      ]
     },
     "execution_count": 69,
     "metadata": {},
     "output_type": "execute_result"
    }
   ],
   "source": [
    "# 显示每场比赛参加人数\n",
    "# transform的作用类似实现了一个一对多的映射功能，把统计数量映射到对应的每个样本上\n",
    "count = train.groupby('matchId')['matchId'].transform('count')\n",
    "\n",
    "train['playersJoined'] = count\n",
    "#从而得出每场比赛有多少人参与\n",
    "count.count()\n",
    "\n",
    "train.head()"
   ]
  },
  {
   "cell_type": "code",
   "execution_count": 70,
   "id": "b4afc76d",
   "metadata": {
    "ExecuteTime": {
     "end_time": "2025-02-28T08:49:44.829279Z",
     "start_time": "2025-02-28T08:49:43.343321Z"
    }
   },
   "outputs": [
    {
     "data": {
      "text/plain": [
       "False"
      ]
     },
     "execution_count": 70,
     "metadata": {},
     "output_type": "execute_result"
    }
   ],
   "source": [
    "np.any(train.isnull())"
   ]
  },
  {
   "cell_type": "markdown",
   "id": "089ff0b6",
   "metadata": {},
   "source": [
    "### 排除异常数据\n",
    "通过列表等方式找出异常数据并删除"
   ]
  },
  {
   "cell_type": "code",
   "execution_count": 71,
   "id": "a6d948d9",
   "metadata": {
    "ExecuteTime": {
     "end_time": "2025-02-28T08:49:45.172433Z",
     "start_time": "2025-02-28T08:49:44.864319Z"
    }
   },
   "outputs": [
    {
     "data": {
      "text/plain": [
       "1206365    2\n",
       "2109739    2\n",
       "3956552    5\n",
       "3620228    5\n",
       "696000     5\n",
       "Name: playersJoined, dtype: int64"
      ]
     },
     "execution_count": 71,
     "metadata": {},
     "output_type": "execute_result"
    }
   ],
   "source": [
    "train['playersJoined'].sort_values().head() #按升序排序,发现有的比赛只有个位数的人参加"
   ]
  },
  {
   "cell_type": "code",
   "execution_count": 72,
   "id": "57f10ee0",
   "metadata": {
    "ExecuteTime": {
     "end_time": "2025-02-28T08:49:49.092012Z",
     "start_time": "2025-02-28T08:49:45.211357Z"
    }
   },
   "outputs": [
    {
     "name": "stderr",
     "output_type": "stream",
     "text": [
      "C:\\Users\\Administrator\\anaconda3\\lib\\site-packages\\seaborn\\_decorators.py:36: FutureWarning: Pass the following variable as a keyword arg: x. From version 0.12, the only valid positional argument will be `data`, and passing other arguments without an explicit keyword will result in an error or misinterpretation.\n",
      "  warnings.warn(\n"
     ]
    },
    {
     "data": {
      "image/png": "[encoded data removed]",
      "text/plain": [
       "<Figure size 1440x720 with 1 Axes>"
      ]
     },
     "metadata": {},
     "output_type": "display_data"
    }
   ],
   "source": [
    "import seaborn as sns\n",
    "plt.figure(figsize=(20,10))\n",
    "sns.countplot(train['playersJoined'])\n",
    "plt.title('playersJoined')\n",
    "plt.grid()\n",
    "plt.show()"
   ]
  },
  {
   "cell_type": "code",
   "execution_count": 73,
   "id": "a265f200",
   "metadata": {
    "ExecuteTime": {
     "end_time": "2025-02-28T08:49:50.953402Z",
     "start_time": "2025-02-28T08:49:49.119262Z"
    }
   },
   "outputs": [
    {
     "name": "stderr",
     "output_type": "stream",
     "text": [
      "C:\\Users\\Administrator\\anaconda3\\lib\\site-packages\\seaborn\\_decorators.py:36: FutureWarning: Pass the following variable as a keyword arg: x. From version 0.12, the only valid positional argument will be `data`, and passing other arguments without an explicit keyword will result in an error or misinterpretation.\n",
      "  warnings.warn(\n"
     ]
    },
    {
     "data": {
      "image/png": "[encoded data removed]",
      "text/plain": [
       "<Figure size 1440x720 with 1 Axes>"
      ]
     },
     "metadata": {},
     "output_type": "display_data"
    }
   ],
   "source": [
    "# 限制每局开始人数大于等于75，再进行绘制。\n",
    "# 再次绘制每局参加人数的直方图\n",
    "plt.figure(figsize=(20,10))\n",
    "sns.countplot(train[train['playersJoined']>=75]['playersJoined'])\n",
    "plt.title('playersJoined')\n",
    "plt.grid()\n",
    "plt.show()\n",
    "#75人以上参加比赛的数量比较可观"
   ]
  },
  {
   "cell_type": "markdown",
   "id": "a970eff1709a6e30",
   "metadata": {},
   "source": []
  },
  {
   "cell_type": "code",
   "execution_count": 74,
   "id": "1936d725dee6d80e",
   "metadata": {
    "ExecuteTime": {
     "end_time": "2025-02-28T08:49:51.652354Z",
     "start_time": "2025-02-28T08:49:50.970924Z"
    }
   },
   "outputs": [
    {
     "data": {
      "text/html": [
       "<div>\n",
       "<style scoped>\n",
       "    .dataframe tbody tr th:only-of-type {\n",
       "        vertical-align: middle;\n",
       "    }\n",
       "\n",
       "    .dataframe tbody tr th {\n",
       "        vertical-align: top;\n",
       "    }\n",
       "\n",
       "    .dataframe thead th {\n",
       "        text-align: right;\n",
       "    }\n",
       "</style>\n",
       "<table border=\"1\" class=\"dataframe\">\n",
       "  <thead>\n",
       "    <tr style=\"text-align: right;\">\n",
       "      <th></th>\n",
       "      <th>heals</th>\n",
       "      <th>boosts</th>\n",
       "      <th>healsandboosts</th>\n",
       "    </tr>\n",
       "  </thead>\n",
       "  <tbody>\n",
       "    <tr>\n",
       "      <th>4446961</th>\n",
       "      <td>0</td>\n",
       "      <td>0</td>\n",
       "      <td>0</td>\n",
       "    </tr>\n",
       "    <tr>\n",
       "      <th>4446962</th>\n",
       "      <td>0</td>\n",
       "      <td>1</td>\n",
       "      <td>1</td>\n",
       "    </tr>\n",
       "    <tr>\n",
       "      <th>4446963</th>\n",
       "      <td>0</td>\n",
       "      <td>0</td>\n",
       "      <td>0</td>\n",
       "    </tr>\n",
       "    <tr>\n",
       "      <th>4446964</th>\n",
       "      <td>2</td>\n",
       "      <td>4</td>\n",
       "      <td>6</td>\n",
       "    </tr>\n",
       "    <tr>\n",
       "      <th>4446965</th>\n",
       "      <td>1</td>\n",
       "      <td>2</td>\n",
       "      <td>3</td>\n",
       "    </tr>\n",
       "  </tbody>\n",
       "</table>\n",
       "</div>"
      ],
      "text/plain": [
       "         heals  boosts  healsandboosts\n",
       "4446961      0       0               0\n",
       "4446962      0       1               1\n",
       "4446963      0       0               0\n",
       "4446964      2       4               6\n",
       "4446965      1       2               3"
      ]
     },
     "execution_count": 74,
     "metadata": {},
     "output_type": "execute_result"
    }
   ],
   "source": [
    "# 变量合成创建新变量“healsandboosts”\n",
    "train['healsandboosts'] = train['heals'] + train['boosts']\n",
    "train[[\"heals\", \"boosts\", \"healsandboosts\"]].tail()\n",
    "#此处我们把特征：heals(使用治疗药品数量)和boosts(能量、道具使用数量)合并成一个新的变量，命名：”healsandboosts“"
   ]
  },
  {
   "cell_type": "code",
   "execution_count": 75,
   "id": "86e9247968ba89db",
   "metadata": {
    "ExecuteTime": {
     "end_time": "2025-02-28T08:49:51.758442Z",
     "start_time": "2025-02-28T08:49:51.694204Z"
    }
   },
   "outputs": [],
   "source": [
    "'''\n",
    "4.2.4.1 异常值处理：删除有击杀，但是完全没有移动的玩家\n",
    "异常数据处理：\n",
    "\n",
    "一些行中的数据统计出来的结果非常反常规，那么这些玩家肯定有问题，为了训练模型的准确性，我们会把这些异常数据剔除\n",
    "\n",
    "通过以下操作，识别出玩家在游戏中有击杀数，但是全局没有移动；\n",
    "\n",
    "这类型玩家肯定是存在异常情况（挂**），我们把这些玩家删除。'''\n",
    "# 创建新变量，统计玩家移动距离\n",
    "train['totalDistance'] = train['rideDistance'] + train['walkDistance'] + train['swimDistance']\n",
    "# 创建新变量，统计玩家是否在游戏中，有击杀，但是没有移动，如果是返回True, 否则返回false\n",
    "train['killsWithoutMoving'] = ((train['kills'] > 0) & (train['totalDistance'] == 0))\n"
   ]
  },
  {
   "cell_type": "code",
   "execution_count": 76,
   "id": "2dd88f9a77fd9c01",
   "metadata": {
    "ExecuteTime": {
     "end_time": "2025-02-28T08:49:51.797382Z",
     "start_time": "2025-02-28T08:49:51.790563Z"
    }
   },
   "outputs": [
    {
     "data": {
      "text/plain": [
       "False"
      ]
     },
     "execution_count": 76,
     "metadata": {},
     "output_type": "execute_result"
    }
   ],
   "source": [
    "np.any(train['killsWithoutMoving'].isnull())"
   ]
  },
  {
   "cell_type": "code",
   "execution_count": 77,
   "id": "789150f5",
   "metadata": {
    "ExecuteTime": {
     "end_time": "2025-02-28T08:49:52.024584Z",
     "start_time": "2025-02-28T08:49:51.833389Z"
    }
   },
   "outputs": [
    {
     "data": {
      "text/html": [
       "<div>\n",
       "<style scoped>\n",
       "    .dataframe tbody tr th:only-of-type {\n",
       "        vertical-align: middle;\n",
       "    }\n",
       "\n",
       "    .dataframe tbody tr th {\n",
       "        vertical-align: top;\n",
       "    }\n",
       "\n",
       "    .dataframe thead th {\n",
       "        text-align: right;\n",
       "    }\n",
       "</style>\n",
       "<table border=\"1\" class=\"dataframe\">\n",
       "  <thead>\n",
       "    <tr style=\"text-align: right;\">\n",
       "      <th></th>\n",
       "      <th>Id</th>\n",
       "      <th>groupId</th>\n",
       "      <th>matchId</th>\n",
       "      <th>assists</th>\n",
       "      <th>boosts</th>\n",
       "      <th>damageDealt</th>\n",
       "      <th>DBNOs</th>\n",
       "      <th>headshotKills</th>\n",
       "      <th>heals</th>\n",
       "      <th>killPlace</th>\n",
       "      <th>...</th>\n",
       "      <th>teamKills</th>\n",
       "      <th>vehicleDestroys</th>\n",
       "      <th>walkDistance</th>\n",
       "      <th>weaponsAcquired</th>\n",
       "      <th>winPoints</th>\n",
       "      <th>winPlacePerc</th>\n",
       "      <th>playersJoined</th>\n",
       "      <th>healsandboosts</th>\n",
       "      <th>totalDistance</th>\n",
       "      <th>killsWithoutMoving</th>\n",
       "    </tr>\n",
       "  </thead>\n",
       "  <tbody>\n",
       "    <tr>\n",
       "      <th>1824</th>\n",
       "      <td>b538d514ef2476</td>\n",
       "      <td>0eb2ce2f43f9d6</td>\n",
       "      <td>35e7d750e442e2</td>\n",
       "      <td>0</td>\n",
       "      <td>0</td>\n",
       "      <td>593.0</td>\n",
       "      <td>0</td>\n",
       "      <td>0</td>\n",
       "      <td>3</td>\n",
       "      <td>18</td>\n",
       "      <td>...</td>\n",
       "      <td>0</td>\n",
       "      <td>0</td>\n",
       "      <td>0.0</td>\n",
       "      <td>8</td>\n",
       "      <td>0</td>\n",
       "      <td>0.8571</td>\n",
       "      <td>58</td>\n",
       "      <td>3</td>\n",
       "      <td>0.0</td>\n",
       "      <td>True</td>\n",
       "    </tr>\n",
       "    <tr>\n",
       "      <th>6673</th>\n",
       "      <td>6d3a61da07b7cb</td>\n",
       "      <td>2d8119b1544f87</td>\n",
       "      <td>904cecf36217df</td>\n",
       "      <td>2</td>\n",
       "      <td>0</td>\n",
       "      <td>346.6</td>\n",
       "      <td>0</td>\n",
       "      <td>0</td>\n",
       "      <td>6</td>\n",
       "      <td>33</td>\n",
       "      <td>...</td>\n",
       "      <td>0</td>\n",
       "      <td>0</td>\n",
       "      <td>0.0</td>\n",
       "      <td>22</td>\n",
       "      <td>0</td>\n",
       "      <td>0.6000</td>\n",
       "      <td>42</td>\n",
       "      <td>6</td>\n",
       "      <td>0.0</td>\n",
       "      <td>True</td>\n",
       "    </tr>\n",
       "    <tr>\n",
       "      <th>11892</th>\n",
       "      <td>550398a8f33db7</td>\n",
       "      <td>c3fd0e2abab0af</td>\n",
       "      <td>db6f6d1f0d4904</td>\n",
       "      <td>2</td>\n",
       "      <td>0</td>\n",
       "      <td>1750.0</td>\n",
       "      <td>0</td>\n",
       "      <td>4</td>\n",
       "      <td>5</td>\n",
       "      <td>3</td>\n",
       "      <td>...</td>\n",
       "      <td>0</td>\n",
       "      <td>0</td>\n",
       "      <td>0.0</td>\n",
       "      <td>13</td>\n",
       "      <td>0</td>\n",
       "      <td>0.8947</td>\n",
       "      <td>21</td>\n",
       "      <td>5</td>\n",
       "      <td>0.0</td>\n",
       "      <td>True</td>\n",
       "    </tr>\n",
       "    <tr>\n",
       "      <th>14631</th>\n",
       "      <td>58d690ee461e9d</td>\n",
       "      <td>ea5b6630b33d67</td>\n",
       "      <td>dbf34301df5e53</td>\n",
       "      <td>0</td>\n",
       "      <td>0</td>\n",
       "      <td>157.8</td>\n",
       "      <td>0</td>\n",
       "      <td>0</td>\n",
       "      <td>0</td>\n",
       "      <td>69</td>\n",
       "      <td>...</td>\n",
       "      <td>0</td>\n",
       "      <td>0</td>\n",
       "      <td>0.0</td>\n",
       "      <td>7</td>\n",
       "      <td>1500</td>\n",
       "      <td>0.0000</td>\n",
       "      <td>73</td>\n",
       "      <td>0</td>\n",
       "      <td>0.0</td>\n",
       "      <td>True</td>\n",
       "    </tr>\n",
       "    <tr>\n",
       "      <th>15591</th>\n",
       "      <td>49b61fc963d632</td>\n",
       "      <td>0f5c5f19d9cc21</td>\n",
       "      <td>904cecf36217df</td>\n",
       "      <td>0</td>\n",
       "      <td>0</td>\n",
       "      <td>100.0</td>\n",
       "      <td>0</td>\n",
       "      <td>1</td>\n",
       "      <td>0</td>\n",
       "      <td>37</td>\n",
       "      <td>...</td>\n",
       "      <td>0</td>\n",
       "      <td>0</td>\n",
       "      <td>0.0</td>\n",
       "      <td>10</td>\n",
       "      <td>0</td>\n",
       "      <td>0.3000</td>\n",
       "      <td>42</td>\n",
       "      <td>0</td>\n",
       "      <td>0.0</td>\n",
       "      <td>True</td>\n",
       "    </tr>\n",
       "  </tbody>\n",
       "</table>\n",
       "<p>5 rows × 33 columns</p>\n",
       "</div>"
      ],
      "text/plain": [
       "                   Id         groupId         matchId  assists  boosts  \\\n",
       "1824   b538d514ef2476  0eb2ce2f43f9d6  35e7d750e442e2        0       0   \n",
       "6673   6d3a61da07b7cb  2d8119b1544f87  904cecf36217df        2       0   \n",
       "11892  550398a8f33db7  c3fd0e2abab0af  db6f6d1f0d4904        2       0   \n",
       "14631  58d690ee461e9d  ea5b6630b33d67  dbf34301df5e53        0       0   \n",
       "15591  49b61fc963d632  0f5c5f19d9cc21  904cecf36217df        0       0   \n",
       "\n",
       "       damageDealt  DBNOs  headshotKills  heals  killPlace  ...  teamKills  \\\n",
       "1824         593.0      0              0      3         18  ...          0   \n",
       "6673         346.6      0              0      6         33  ...          0   \n",
       "11892       1750.0      0              4      5          3  ...          0   \n",
       "14631        157.8      0              0      0         69  ...          0   \n",
       "15591        100.0      0              1      0         37  ...          0   \n",
       "\n",
       "       vehicleDestroys  walkDistance  weaponsAcquired  winPoints winPlacePerc  \\\n",
       "1824                 0           0.0                8          0       0.8571   \n",
       "6673                 0           0.0               22          0       0.6000   \n",
       "11892                0           0.0               13          0       0.8947   \n",
       "14631                0           0.0                7       1500       0.0000   \n",
       "15591                0           0.0               10          0       0.3000   \n",
       "\n",
       "       playersJoined  healsandboosts  totalDistance  killsWithoutMoving  \n",
       "1824              58               3            0.0                True  \n",
       "6673              42               6            0.0                True  \n",
       "11892             21               5            0.0                True  \n",
       "14631             73               0            0.0                True  \n",
       "15591             42               0            0.0                True  \n",
       "\n",
       "[5 rows x 33 columns]"
      ]
     },
     "execution_count": 77,
     "metadata": {},
     "output_type": "execute_result"
    }
   ],
   "source": [
    "train[train['killsWithoutMoving']==True].head()"
   ]
  },
  {
   "cell_type": "markdown",
   "id": "0de6be9f",
   "metadata": {},
   "source": [
    "找出train['killsWithoutMoving']为True的块,异常数据自然要删除"
   ]
  },
  {
   "cell_type": "code",
   "execution_count": 78,
   "id": "a81e0d6c",
   "metadata": {
    "ExecuteTime": {
     "end_time": "2025-02-28T08:49:52.087753Z",
     "start_time": "2025-02-28T08:49:52.074224Z"
    }
   },
   "outputs": [
    {
     "data": {
      "text/plain": [
       "Int64Index([   1824,    6673,   11892,   14631,   15591,   20881,   23298,\n",
       "              24640,   25659,   30079,\n",
       "            ...\n",
       "            4426500, 4429697, 4432954, 4436511, 4437516, 4440232, 4440898,\n",
       "            4440927, 4441511, 4446682],\n",
       "           dtype='int64', length=1535)"
      ]
     },
     "execution_count": 78,
     "metadata": {},
     "output_type": "execute_result"
    }
   ],
   "source": [
    "train[train['killsWithoutMoving']==True].index"
   ]
  },
  {
   "cell_type": "code",
   "execution_count": 79,
   "id": "f33192d0",
   "metadata": {
    "ExecuteTime": {
     "end_time": "2025-02-28T08:49:56.316356Z",
     "start_time": "2025-02-28T08:49:52.145405Z"
    }
   },
   "outputs": [],
   "source": [
    "train.shape\n",
    "train.drop(train[train['killsWithoutMoving']==True].index,inplace=True)\n",
    "train.drop(train[train['roadKills']==True].index,inplace=True)"
   ]
  },
  {
   "cell_type": "code",
   "execution_count": 80,
   "id": "ef5ef827",
   "metadata": {
    "ExecuteTime": {
     "end_time": "2025-02-28T08:49:58.752846Z",
     "start_time": "2025-02-28T08:49:56.330480Z"
    }
   },
   "outputs": [
    {
     "data": {
      "text/html": [
       "<div>\n",
       "<style scoped>\n",
       "    .dataframe tbody tr th:only-of-type {\n",
       "        vertical-align: middle;\n",
       "    }\n",
       "\n",
       "    .dataframe tbody tr th {\n",
       "        vertical-align: top;\n",
       "    }\n",
       "\n",
       "    .dataframe thead th {\n",
       "        text-align: right;\n",
       "    }\n",
       "</style>\n",
       "<table border=\"1\" class=\"dataframe\">\n",
       "  <thead>\n",
       "    <tr style=\"text-align: right;\">\n",
       "      <th></th>\n",
       "      <th>Id</th>\n",
       "      <th>groupId</th>\n",
       "      <th>matchId</th>\n",
       "      <th>assists</th>\n",
       "      <th>boosts</th>\n",
       "      <th>damageDealt</th>\n",
       "      <th>DBNOs</th>\n",
       "      <th>headshotKills</th>\n",
       "      <th>heals</th>\n",
       "      <th>killPlace</th>\n",
       "      <th>...</th>\n",
       "      <th>teamKills</th>\n",
       "      <th>vehicleDestroys</th>\n",
       "      <th>walkDistance</th>\n",
       "      <th>weaponsAcquired</th>\n",
       "      <th>winPoints</th>\n",
       "      <th>winPlacePerc</th>\n",
       "      <th>playersJoined</th>\n",
       "      <th>healsandboosts</th>\n",
       "      <th>totalDistance</th>\n",
       "      <th>killsWithoutMoving</th>\n",
       "    </tr>\n",
       "  </thead>\n",
       "  <tbody>\n",
       "    <tr>\n",
       "      <th>0</th>\n",
       "      <td>7f96b2f878858a</td>\n",
       "      <td>4d4b580de459be</td>\n",
       "      <td>a10357fd1a4a91</td>\n",
       "      <td>0</td>\n",
       "      <td>0</td>\n",
       "      <td>0.00</td>\n",
       "      <td>0</td>\n",
       "      <td>0</td>\n",
       "      <td>0</td>\n",
       "      <td>60</td>\n",
       "      <td>...</td>\n",
       "      <td>0</td>\n",
       "      <td>0</td>\n",
       "      <td>244.80</td>\n",
       "      <td>1</td>\n",
       "      <td>1466</td>\n",
       "      <td>0.4444</td>\n",
       "      <td>96</td>\n",
       "      <td>0</td>\n",
       "      <td>244.8000</td>\n",
       "      <td>False</td>\n",
       "    </tr>\n",
       "    <tr>\n",
       "      <th>1</th>\n",
       "      <td>eef90569b9d03c</td>\n",
       "      <td>684d5656442f9e</td>\n",
       "      <td>aeb375fc57110c</td>\n",
       "      <td>0</td>\n",
       "      <td>0</td>\n",
       "      <td>91.47</td>\n",
       "      <td>0</td>\n",
       "      <td>0</td>\n",
       "      <td>0</td>\n",
       "      <td>57</td>\n",
       "      <td>...</td>\n",
       "      <td>0</td>\n",
       "      <td>0</td>\n",
       "      <td>1434.00</td>\n",
       "      <td>5</td>\n",
       "      <td>0</td>\n",
       "      <td>0.6400</td>\n",
       "      <td>91</td>\n",
       "      <td>0</td>\n",
       "      <td>1445.0445</td>\n",
       "      <td>False</td>\n",
       "    </tr>\n",
       "    <tr>\n",
       "      <th>2</th>\n",
       "      <td>1eaf90ac73de72</td>\n",
       "      <td>6a4a42c3245a74</td>\n",
       "      <td>110163d8bb94ae</td>\n",
       "      <td>1</td>\n",
       "      <td>0</td>\n",
       "      <td>68.00</td>\n",
       "      <td>0</td>\n",
       "      <td>0</td>\n",
       "      <td>0</td>\n",
       "      <td>47</td>\n",
       "      <td>...</td>\n",
       "      <td>0</td>\n",
       "      <td>0</td>\n",
       "      <td>161.80</td>\n",
       "      <td>2</td>\n",
       "      <td>0</td>\n",
       "      <td>0.7755</td>\n",
       "      <td>98</td>\n",
       "      <td>0</td>\n",
       "      <td>161.8000</td>\n",
       "      <td>False</td>\n",
       "    </tr>\n",
       "    <tr>\n",
       "      <th>3</th>\n",
       "      <td>4616d365dd2853</td>\n",
       "      <td>a930a9c79cd721</td>\n",
       "      <td>f1f1f4ef412d7e</td>\n",
       "      <td>0</td>\n",
       "      <td>0</td>\n",
       "      <td>32.90</td>\n",
       "      <td>0</td>\n",
       "      <td>0</td>\n",
       "      <td>0</td>\n",
       "      <td>75</td>\n",
       "      <td>...</td>\n",
       "      <td>0</td>\n",
       "      <td>0</td>\n",
       "      <td>202.70</td>\n",
       "      <td>3</td>\n",
       "      <td>0</td>\n",
       "      <td>0.1667</td>\n",
       "      <td>91</td>\n",
       "      <td>0</td>\n",
       "      <td>202.7000</td>\n",
       "      <td>False</td>\n",
       "    </tr>\n",
       "    <tr>\n",
       "      <th>4</th>\n",
       "      <td>315c96c26c9aac</td>\n",
       "      <td>de04010b3458dd</td>\n",
       "      <td>6dc8ff871e21e6</td>\n",
       "      <td>0</td>\n",
       "      <td>0</td>\n",
       "      <td>100.00</td>\n",
       "      <td>0</td>\n",
       "      <td>0</td>\n",
       "      <td>0</td>\n",
       "      <td>45</td>\n",
       "      <td>...</td>\n",
       "      <td>0</td>\n",
       "      <td>0</td>\n",
       "      <td>49.75</td>\n",
       "      <td>2</td>\n",
       "      <td>0</td>\n",
       "      <td>0.1875</td>\n",
       "      <td>97</td>\n",
       "      <td>0</td>\n",
       "      <td>49.7500</td>\n",
       "      <td>False</td>\n",
       "    </tr>\n",
       "    <tr>\n",
       "      <th>...</th>\n",
       "      <td>...</td>\n",
       "      <td>...</td>\n",
       "      <td>...</td>\n",
       "      <td>...</td>\n",
       "      <td>...</td>\n",
       "      <td>...</td>\n",
       "      <td>...</td>\n",
       "      <td>...</td>\n",
       "      <td>...</td>\n",
       "      <td>...</td>\n",
       "      <td>...</td>\n",
       "      <td>...</td>\n",
       "      <td>...</td>\n",
       "      <td>...</td>\n",
       "      <td>...</td>\n",
       "      <td>...</td>\n",
       "      <td>...</td>\n",
       "      <td>...</td>\n",
       "      <td>...</td>\n",
       "      <td>...</td>\n",
       "      <td>...</td>\n",
       "    </tr>\n",
       "    <tr>\n",
       "      <th>4446961</th>\n",
       "      <td>afff7f652dbc10</td>\n",
       "      <td>d238e426f50de7</td>\n",
       "      <td>18492834ce5635</td>\n",
       "      <td>0</td>\n",
       "      <td>0</td>\n",
       "      <td>0.00</td>\n",
       "      <td>0</td>\n",
       "      <td>0</td>\n",
       "      <td>0</td>\n",
       "      <td>74</td>\n",
       "      <td>...</td>\n",
       "      <td>0</td>\n",
       "      <td>0</td>\n",
       "      <td>1019.00</td>\n",
       "      <td>3</td>\n",
       "      <td>1507</td>\n",
       "      <td>0.1786</td>\n",
       "      <td>94</td>\n",
       "      <td>0</td>\n",
       "      <td>2311.0000</td>\n",
       "      <td>False</td>\n",
       "    </tr>\n",
       "    <tr>\n",
       "      <th>4446962</th>\n",
       "      <td>f4197cf374e6c0</td>\n",
       "      <td>408cdb5c46b2ac</td>\n",
       "      <td>ee854b837376d9</td>\n",
       "      <td>0</td>\n",
       "      <td>1</td>\n",
       "      <td>44.15</td>\n",
       "      <td>0</td>\n",
       "      <td>0</td>\n",
       "      <td>0</td>\n",
       "      <td>69</td>\n",
       "      <td>...</td>\n",
       "      <td>0</td>\n",
       "      <td>0</td>\n",
       "      <td>81.70</td>\n",
       "      <td>6</td>\n",
       "      <td>0</td>\n",
       "      <td>0.2935</td>\n",
       "      <td>93</td>\n",
       "      <td>1</td>\n",
       "      <td>81.7000</td>\n",
       "      <td>False</td>\n",
       "    </tr>\n",
       "    <tr>\n",
       "      <th>4446963</th>\n",
       "      <td>e1948b1295c88a</td>\n",
       "      <td>e26ac84bdf7cef</td>\n",
       "      <td>6d0cd12784f1ab</td>\n",
       "      <td>0</td>\n",
       "      <td>0</td>\n",
       "      <td>59.06</td>\n",
       "      <td>0</td>\n",
       "      <td>0</td>\n",
       "      <td>0</td>\n",
       "      <td>66</td>\n",
       "      <td>...</td>\n",
       "      <td>0</td>\n",
       "      <td>0</td>\n",
       "      <td>788.70</td>\n",
       "      <td>4</td>\n",
       "      <td>0</td>\n",
       "      <td>0.4815</td>\n",
       "      <td>98</td>\n",
       "      <td>0</td>\n",
       "      <td>790.8840</td>\n",
       "      <td>False</td>\n",
       "    </tr>\n",
       "    <tr>\n",
       "      <th>4446964</th>\n",
       "      <td>cc032cdd73b7ac</td>\n",
       "      <td>c2223f35411394</td>\n",
       "      <td>c9c701d0ad758a</td>\n",
       "      <td>0</td>\n",
       "      <td>4</td>\n",
       "      <td>180.40</td>\n",
       "      <td>1</td>\n",
       "      <td>1</td>\n",
       "      <td>2</td>\n",
       "      <td>11</td>\n",
       "      <td>...</td>\n",
       "      <td>0</td>\n",
       "      <td>0</td>\n",
       "      <td>2748.00</td>\n",
       "      <td>8</td>\n",
       "      <td>0</td>\n",
       "      <td>0.8000</td>\n",
       "      <td>94</td>\n",
       "      <td>6</td>\n",
       "      <td>2748.0000</td>\n",
       "      <td>False</td>\n",
       "    </tr>\n",
       "    <tr>\n",
       "      <th>4446965</th>\n",
       "      <td>0d8e7ed728b6fd</td>\n",
       "      <td>8c74f72fedf5ff</td>\n",
       "      <td>62a16aabcc095c</td>\n",
       "      <td>0</td>\n",
       "      <td>2</td>\n",
       "      <td>268.00</td>\n",
       "      <td>0</td>\n",
       "      <td>0</td>\n",
       "      <td>1</td>\n",
       "      <td>18</td>\n",
       "      <td>...</td>\n",
       "      <td>0</td>\n",
       "      <td>0</td>\n",
       "      <td>1244.00</td>\n",
       "      <td>5</td>\n",
       "      <td>0</td>\n",
       "      <td>0.5464</td>\n",
       "      <td>98</td>\n",
       "      <td>3</td>\n",
       "      <td>2613.0000</td>\n",
       "      <td>False</td>\n",
       "    </tr>\n",
       "  </tbody>\n",
       "</table>\n",
       "<p>4434183 rows × 33 columns</p>\n",
       "</div>"
      ],
      "text/plain": [
       "                     Id         groupId         matchId  assists  boosts  \\\n",
       "0        7f96b2f878858a  4d4b580de459be  a10357fd1a4a91        0       0   \n",
       "1        eef90569b9d03c  684d5656442f9e  aeb375fc57110c        0       0   \n",
       "2        1eaf90ac73de72  6a4a42c3245a74  110163d8bb94ae        1       0   \n",
       "3        4616d365dd2853  a930a9c79cd721  f1f1f4ef412d7e        0       0   \n",
       "4        315c96c26c9aac  de04010b3458dd  6dc8ff871e21e6        0       0   \n",
       "...                 ...             ...             ...      ...     ...   \n",
       "4446961  afff7f652dbc10  d238e426f50de7  18492834ce5635        0       0   \n",
       "4446962  f4197cf374e6c0  408cdb5c46b2ac  ee854b837376d9        0       1   \n",
       "4446963  e1948b1295c88a  e26ac84bdf7cef  6d0cd12784f1ab        0       0   \n",
       "4446964  cc032cdd73b7ac  c2223f35411394  c9c701d0ad758a        0       4   \n",
       "4446965  0d8e7ed728b6fd  8c74f72fedf5ff  62a16aabcc095c        0       2   \n",
       "\n",
       "         damageDealt  DBNOs  headshotKills  heals  killPlace  ...  teamKills  \\\n",
       "0               0.00      0              0      0         60  ...          0   \n",
       "1              91.47      0              0      0         57  ...          0   \n",
       "2              68.00      0              0      0         47  ...          0   \n",
       "3              32.90      0              0      0         75  ...          0   \n",
       "4             100.00      0              0      0         45  ...          0   \n",
       "...              ...    ...            ...    ...        ...  ...        ...   \n",
       "4446961         0.00      0              0      0         74  ...          0   \n",
       "4446962        44.15      0              0      0         69  ...          0   \n",
       "4446963        59.06      0              0      0         66  ...          0   \n",
       "4446964       180.40      1              1      2         11  ...          0   \n",
       "4446965       268.00      0              0      1         18  ...          0   \n",
       "\n",
       "         vehicleDestroys  walkDistance  weaponsAcquired  winPoints  \\\n",
       "0                      0        244.80                1       1466   \n",
       "1                      0       1434.00                5          0   \n",
       "2                      0        161.80                2          0   \n",
       "3                      0        202.70                3          0   \n",
       "4                      0         49.75                2          0   \n",
       "...                  ...           ...              ...        ...   \n",
       "4446961                0       1019.00                3       1507   \n",
       "4446962                0         81.70                6          0   \n",
       "4446963                0        788.70                4          0   \n",
       "4446964                0       2748.00                8          0   \n",
       "4446965                0       1244.00                5          0   \n",
       "\n",
       "        winPlacePerc  playersJoined  healsandboosts  totalDistance  \\\n",
       "0             0.4444             96               0       244.8000   \n",
       "1             0.6400             91               0      1445.0445   \n",
       "2             0.7755             98               0       161.8000   \n",
       "3             0.1667             91               0       202.7000   \n",
       "4             0.1875             97               0        49.7500   \n",
       "...              ...            ...             ...            ...   \n",
       "4446961       0.1786             94               0      2311.0000   \n",
       "4446962       0.2935             93               1        81.7000   \n",
       "4446963       0.4815             98               0       790.8840   \n",
       "4446964       0.8000             94               6      2748.0000   \n",
       "4446965       0.5464             98               3      2613.0000   \n",
       "\n",
       "         killsWithoutMoving  \n",
       "0                     False  \n",
       "1                     False  \n",
       "2                     False  \n",
       "3                     False  \n",
       "4                     False  \n",
       "...                     ...  \n",
       "4446961               False  \n",
       "4446962               False  \n",
       "4446963               False  \n",
       "4446964               False  \n",
       "4446965               False  \n",
       "\n",
       "[4434183 rows x 33 columns]"
      ]
     },
     "execution_count": 80,
     "metadata": {},
     "output_type": "execute_result"
    }
   ],
   "source": [
    "train"
   ]
  },
  {
   "cell_type": "markdown",
   "id": "8c5a25f4",
   "metadata": {},
   "source": [
    "行数减少,上述的异常数据(驾车杀敌过多和无移动杀敌)的行已被删除"
   ]
  },
  {
   "cell_type": "code",
   "execution_count": 81,
   "id": "d72fc7c5",
   "metadata": {
    "ExecuteTime": {
     "end_time": "2025-02-28T08:49:58.813190Z",
     "start_time": "2025-02-28T08:49:58.802483Z"
    }
   },
   "outputs": [
    {
     "data": {
      "text/plain": [
       "(95, 33)"
      ]
     },
     "execution_count": 81,
     "metadata": {},
     "output_type": "execute_result"
    }
   ],
   "source": [
    "train[train['kills']>30].shape#杀敌数过多"
   ]
  },
  {
   "cell_type": "code",
   "execution_count": 82,
   "id": "10da1d72",
   "metadata": {
    "ExecuteTime": {
     "end_time": "2025-02-28T08:49:59.895787Z",
     "start_time": "2025-02-28T08:49:58.888675Z"
    }
   },
   "outputs": [],
   "source": [
    "train.drop(train[train['kills']>30].index,inplace=True)"
   ]
  },
  {
   "cell_type": "code",
   "execution_count": 83,
   "id": "009cb862",
   "metadata": {
    "ExecuteTime": {
     "end_time": "2025-02-28T08:49:59.911315Z",
     "start_time": "2025-02-28T08:49:59.907421Z"
    }
   },
   "outputs": [
    {
     "data": {
      "text/plain": [
       "(4434088, 33)"
      ]
     },
     "execution_count": 83,
     "metadata": {},
     "output_type": "execute_result"
    }
   ],
   "source": [
    "train.shape"
   ]
  },
  {
   "cell_type": "code",
   "execution_count": 84,
   "id": "031bd253",
   "metadata": {
    "ExecuteTime": {
     "end_time": "2025-02-28T08:50:00.001515Z",
     "start_time": "2025-02-28T08:49:59.925596Z"
    }
   },
   "outputs": [],
   "source": [
    "#如果一个玩家的击杀爆头率过高，也说明其有问题\n",
    "# 创建变量爆头率\n",
    "train['headshot_rate'] = train['headshotKills'] / train['kills']\n",
    "train['headshot_rate'] = train['headshot_rate'].fillna(0) #可能有除以0的情况出现,这些值均为NaN"
   ]
  },
  {
   "cell_type": "code",
   "execution_count": 85,
   "id": "c9e19c31",
   "metadata": {
    "ExecuteTime": {
     "end_time": "2025-02-28T08:50:00.234677Z",
     "start_time": "2025-02-28T08:50:00.017094Z"
    }
   },
   "outputs": [
    {
     "name": "stderr",
     "output_type": "stream",
     "text": [
      "C:\\Users\\Administrator\\anaconda3\\lib\\site-packages\\seaborn\\distributions.py:2557: FutureWarning: `distplot` is a deprecated function and will be removed in a future version. Please adapt your code to use either `displot` (a figure-level function with similar flexibility) or `histplot` (an axes-level function for histograms).\n",
      "  warnings.warn(msg, FutureWarning)\n"
     ]
    },
    {
     "data": {
      "image/png": "[encoded data removed]",
      "text/plain": [
       "<Figure size 864x288 with 1 Axes>"
      ]
     },
     "metadata": {},
     "output_type": "display_data"
    }
   ],
   "source": [
    "# 绘制爆头率图像\n",
    "plt.figure(figsize=(12,4))\n",
    "sns.distplot(train['headshot_rate'], bins=10, kde=False)\n",
    "plt.show()"
   ]
  },
  {
   "cell_type": "markdown",
   "id": "df8cd898",
   "metadata": {},
   "source": [
    "显然,右侧存在一些异常的爆头率数据,将其剔除"
   ]
  },
  {
   "cell_type": "code",
   "execution_count": 86,
   "id": "b557e7bc",
   "metadata": {
    "ExecuteTime": {
     "end_time": "2025-02-28T08:50:00.438854Z",
     "start_time": "2025-02-28T08:50:00.249273Z"
    }
   },
   "outputs": [
    {
     "data": {
      "text/plain": [
       "(24, 34)"
      ]
     },
     "execution_count": 86,
     "metadata": {},
     "output_type": "execute_result"
    }
   ],
   "source": [
    "train[(train['headshot_rate'] == 1) & (train['kills'] > 9)].shape\n"
   ]
  },
  {
   "cell_type": "code",
   "execution_count": 87,
   "id": "2267d198",
   "metadata": {
    "ExecuteTime": {
     "end_time": "2025-02-28T08:50:01.393333Z",
     "start_time": "2025-02-28T08:50:00.455399Z"
    }
   },
   "outputs": [],
   "source": [
    "train.drop(train[(train['headshot_rate'] == 1) & (train['kills'] > 9)].index, inplace=True)"
   ]
  },
  {
   "cell_type": "code",
   "execution_count": 88,
   "id": "80ea1311",
   "metadata": {
    "ExecuteTime": {
     "end_time": "2025-02-28T08:50:01.414674Z",
     "start_time": "2025-02-28T08:50:01.409807Z"
    }
   },
   "outputs": [
    {
     "data": {
      "text/plain": [
       "(4434064, 34)"
      ]
     },
     "execution_count": 88,
     "metadata": {},
     "output_type": "execute_result"
    }
   ],
   "source": [
    "train.shape"
   ]
  },
  {
   "cell_type": "code",
   "execution_count": 89,
   "id": "ddb340ecd9eba71c",
   "metadata": {
    "ExecuteTime": {
     "end_time": "2025-02-28T08:50:02.704927Z",
     "start_time": "2025-02-28T08:50:01.514932Z"
    }
   },
   "outputs": [
    {
     "data": {
      "image/png": "[encoded data removed]",
      "text/plain": [
       "<Figure size 864x288 with 1 Axes>"
      ]
     },
     "metadata": {},
     "output_type": "display_data"
    },
    {
     "data": {
      "text/plain": [
       "(4434044, 34)"
      ]
     },
     "execution_count": 89,
     "metadata": {},
     "output_type": "execute_result"
    }
   ],
   "source": [
    "# 绘制图像\n",
    "plt.figure(figsize=(12,4))\n",
    "sns.distplot(train['longestKill'], bins=10, kde=False)\n",
    "plt.show()\n",
    "# 找出最远杀敌距离大于等于1km的玩家\n",
    "train.drop(train[train['longestKill'] >= 1000].index, inplace=True)\n",
    "train.shape\n"
   ]
  },
  {
   "cell_type": "code",
   "execution_count": 90,
   "id": "8a10f9e1fd8d8085",
   "metadata": {},
   "outputs": [],
   "source": [
    "#异常值处理：删除关于运动距离的异常值\n",
    "train.drop(train[train['walkDistance'] >= 10000].index, inplace=True)\n",
    "train.drop(train[train['rideDistance'] >= 20000].index, inplace=True)\n",
    "train.drop(train[train['swimDistance'] >= 2000].index, inplace=True)\n"
   ]
  },
  {
   "cell_type": "code",
   "execution_count": 91,
   "id": "a05e021e3c0f9aca",
   "metadata": {},
   "outputs": [],
   "source": [
    "# 异常值处理：删除使用治疗药品数量异常值\n",
    "train.drop(train[train['heals'] >= 40].index, inplace=True)\n"
   ]
  },
  {
   "cell_type": "markdown",
   "id": "a2128011",
   "metadata": {},
   "source": [
    "## 数据编码化处理\n",
    "#### 对于类别较少的数据,可以使用one-hot方式进行处理,如train['matchType']\n",
    "#### 对于类别非常多的数据,直接转换成数值,如 train[\"groupId\"]和 train['matchId']"
   ]
  },
  {
   "cell_type": "code",
   "execution_count": 92,
   "id": "25cf76a7",
   "metadata": {},
   "outputs": [
    {
     "data": {
      "text/plain": [
       "array(['squad-fpp', 'duo', 'solo-fpp', 'squad', 'duo-fpp', 'solo',\n",
       "       'normal-squad-fpp', 'crashfpp', 'flaretpp', 'normal-solo-fpp',\n",
       "       'flarefpp', 'normal-duo-fpp', 'normal-duo', 'normal-squad',\n",
       "       'crashtpp', 'normal-solo'], dtype=object)"
      ]
     },
     "execution_count": 92,
     "metadata": {},
     "output_type": "execute_result"
    }
   ],
   "source": [
    "# 关于比赛类型，共有16种方式\n",
    "train['matchType'].unique()\n",
    "'''\n",
    "array(['squad-fpp', 'duo', 'solo-fpp', 'squad', 'duo-fpp', 'solo',\n",
    "       'normal-squad-fpp', 'crashfpp', 'flaretpp', 'normal-solo-fpp',\n",
    "       'flarefpp', 'normal-duo-fpp', 'normal-duo', 'normal-squad',\n",
    "       'crashtpp', 'normal-solo'], dtype=object)\n",
    "       '''"
   ]
  },
  {
   "cell_type": "code",
   "execution_count": 93,
   "id": "5b39c052",
   "metadata": {},
   "outputs": [],
   "source": [
    "# 对matchType进行one_hot编码\n",
    "# 通过在后面添加的方式,实现,赋值并不是替换\n",
    "train = pd.get_dummies(train, columns=['matchType'])\n"
   ]
  },
  {
   "cell_type": "code",
   "execution_count": 94,
   "id": "70288623",
   "metadata": {},
   "outputs": [
    {
     "data": {
      "text/html": [
       "<div>\n",
       "<style scoped>\n",
       "    .dataframe tbody tr th:only-of-type {\n",
       "        vertical-align: middle;\n",
       "    }\n",
       "\n",
       "    .dataframe tbody tr th {\n",
       "        vertical-align: top;\n",
       "    }\n",
       "\n",
       "    .dataframe thead th {\n",
       "        text-align: right;\n",
       "    }\n",
       "</style>\n",
       "<table border=\"1\" class=\"dataframe\">\n",
       "  <thead>\n",
       "    <tr style=\"text-align: right;\">\n",
       "      <th></th>\n",
       "      <th>Id</th>\n",
       "      <th>groupId</th>\n",
       "      <th>matchId</th>\n",
       "      <th>assists</th>\n",
       "      <th>boosts</th>\n",
       "      <th>damageDealt</th>\n",
       "      <th>DBNOs</th>\n",
       "      <th>headshotKills</th>\n",
       "      <th>heals</th>\n",
       "      <th>killPlace</th>\n",
       "      <th>...</th>\n",
       "      <th>matchType_normal-duo</th>\n",
       "      <th>matchType_normal-duo-fpp</th>\n",
       "      <th>matchType_normal-solo</th>\n",
       "      <th>matchType_normal-solo-fpp</th>\n",
       "      <th>matchType_normal-squad</th>\n",
       "      <th>matchType_normal-squad-fpp</th>\n",
       "      <th>matchType_solo</th>\n",
       "      <th>matchType_solo-fpp</th>\n",
       "      <th>matchType_squad</th>\n",
       "      <th>matchType_squad-fpp</th>\n",
       "    </tr>\n",
       "  </thead>\n",
       "  <tbody>\n",
       "    <tr>\n",
       "      <th>0</th>\n",
       "      <td>7f96b2f878858a</td>\n",
       "      <td>4d4b580de459be</td>\n",
       "      <td>a10357fd1a4a91</td>\n",
       "      <td>0</td>\n",
       "      <td>0</td>\n",
       "      <td>0.00</td>\n",
       "      <td>0</td>\n",
       "      <td>0</td>\n",
       "      <td>0</td>\n",
       "      <td>60</td>\n",
       "      <td>...</td>\n",
       "      <td>0</td>\n",
       "      <td>0</td>\n",
       "      <td>0</td>\n",
       "      <td>0</td>\n",
       "      <td>0</td>\n",
       "      <td>0</td>\n",
       "      <td>0</td>\n",
       "      <td>0</td>\n",
       "      <td>0</td>\n",
       "      <td>1</td>\n",
       "    </tr>\n",
       "    <tr>\n",
       "      <th>1</th>\n",
       "      <td>eef90569b9d03c</td>\n",
       "      <td>684d5656442f9e</td>\n",
       "      <td>aeb375fc57110c</td>\n",
       "      <td>0</td>\n",
       "      <td>0</td>\n",
       "      <td>91.47</td>\n",
       "      <td>0</td>\n",
       "      <td>0</td>\n",
       "      <td>0</td>\n",
       "      <td>57</td>\n",
       "      <td>...</td>\n",
       "      <td>0</td>\n",
       "      <td>0</td>\n",
       "      <td>0</td>\n",
       "      <td>0</td>\n",
       "      <td>0</td>\n",
       "      <td>0</td>\n",
       "      <td>0</td>\n",
       "      <td>0</td>\n",
       "      <td>0</td>\n",
       "      <td>1</td>\n",
       "    </tr>\n",
       "    <tr>\n",
       "      <th>2</th>\n",
       "      <td>1eaf90ac73de72</td>\n",
       "      <td>6a4a42c3245a74</td>\n",
       "      <td>110163d8bb94ae</td>\n",
       "      <td>1</td>\n",
       "      <td>0</td>\n",
       "      <td>68.00</td>\n",
       "      <td>0</td>\n",
       "      <td>0</td>\n",
       "      <td>0</td>\n",
       "      <td>47</td>\n",
       "      <td>...</td>\n",
       "      <td>0</td>\n",
       "      <td>0</td>\n",
       "      <td>0</td>\n",
       "      <td>0</td>\n",
       "      <td>0</td>\n",
       "      <td>0</td>\n",
       "      <td>0</td>\n",
       "      <td>0</td>\n",
       "      <td>0</td>\n",
       "      <td>0</td>\n",
       "    </tr>\n",
       "    <tr>\n",
       "      <th>3</th>\n",
       "      <td>4616d365dd2853</td>\n",
       "      <td>a930a9c79cd721</td>\n",
       "      <td>f1f1f4ef412d7e</td>\n",
       "      <td>0</td>\n",
       "      <td>0</td>\n",
       "      <td>32.90</td>\n",
       "      <td>0</td>\n",
       "      <td>0</td>\n",
       "      <td>0</td>\n",
       "      <td>75</td>\n",
       "      <td>...</td>\n",
       "      <td>0</td>\n",
       "      <td>0</td>\n",
       "      <td>0</td>\n",
       "      <td>0</td>\n",
       "      <td>0</td>\n",
       "      <td>0</td>\n",
       "      <td>0</td>\n",
       "      <td>0</td>\n",
       "      <td>0</td>\n",
       "      <td>1</td>\n",
       "    </tr>\n",
       "    <tr>\n",
       "      <th>4</th>\n",
       "      <td>315c96c26c9aac</td>\n",
       "      <td>de04010b3458dd</td>\n",
       "      <td>6dc8ff871e21e6</td>\n",
       "      <td>0</td>\n",
       "      <td>0</td>\n",
       "      <td>100.00</td>\n",
       "      <td>0</td>\n",
       "      <td>0</td>\n",
       "      <td>0</td>\n",
       "      <td>45</td>\n",
       "      <td>...</td>\n",
       "      <td>0</td>\n",
       "      <td>0</td>\n",
       "      <td>0</td>\n",
       "      <td>0</td>\n",
       "      <td>0</td>\n",
       "      <td>0</td>\n",
       "      <td>0</td>\n",
       "      <td>1</td>\n",
       "      <td>0</td>\n",
       "      <td>0</td>\n",
       "    </tr>\n",
       "    <tr>\n",
       "      <th>...</th>\n",
       "      <td>...</td>\n",
       "      <td>...</td>\n",
       "      <td>...</td>\n",
       "      <td>...</td>\n",
       "      <td>...</td>\n",
       "      <td>...</td>\n",
       "      <td>...</td>\n",
       "      <td>...</td>\n",
       "      <td>...</td>\n",
       "      <td>...</td>\n",
       "      <td>...</td>\n",
       "      <td>...</td>\n",
       "      <td>...</td>\n",
       "      <td>...</td>\n",
       "      <td>...</td>\n",
       "      <td>...</td>\n",
       "      <td>...</td>\n",
       "      <td>...</td>\n",
       "      <td>...</td>\n",
       "      <td>...</td>\n",
       "      <td>...</td>\n",
       "    </tr>\n",
       "    <tr>\n",
       "      <th>4446961</th>\n",
       "      <td>afff7f652dbc10</td>\n",
       "      <td>d238e426f50de7</td>\n",
       "      <td>18492834ce5635</td>\n",
       "      <td>0</td>\n",
       "      <td>0</td>\n",
       "      <td>0.00</td>\n",
       "      <td>0</td>\n",
       "      <td>0</td>\n",
       "      <td>0</td>\n",
       "      <td>74</td>\n",
       "      <td>...</td>\n",
       "      <td>0</td>\n",
       "      <td>0</td>\n",
       "      <td>0</td>\n",
       "      <td>0</td>\n",
       "      <td>0</td>\n",
       "      <td>0</td>\n",
       "      <td>0</td>\n",
       "      <td>0</td>\n",
       "      <td>0</td>\n",
       "      <td>1</td>\n",
       "    </tr>\n",
       "    <tr>\n",
       "      <th>4446962</th>\n",
       "      <td>f4197cf374e6c0</td>\n",
       "      <td>408cdb5c46b2ac</td>\n",
       "      <td>ee854b837376d9</td>\n",
       "      <td>0</td>\n",
       "      <td>1</td>\n",
       "      <td>44.15</td>\n",
       "      <td>0</td>\n",
       "      <td>0</td>\n",
       "      <td>0</td>\n",
       "      <td>69</td>\n",
       "      <td>...</td>\n",
       "      <td>0</td>\n",
       "      <td>0</td>\n",
       "      <td>0</td>\n",
       "      <td>0</td>\n",
       "      <td>0</td>\n",
       "      <td>0</td>\n",
       "      <td>1</td>\n",
       "      <td>0</td>\n",
       "      <td>0</td>\n",
       "      <td>0</td>\n",
       "    </tr>\n",
       "    <tr>\n",
       "      <th>4446963</th>\n",
       "      <td>e1948b1295c88a</td>\n",
       "      <td>e26ac84bdf7cef</td>\n",
       "      <td>6d0cd12784f1ab</td>\n",
       "      <td>0</td>\n",
       "      <td>0</td>\n",
       "      <td>59.06</td>\n",
       "      <td>0</td>\n",
       "      <td>0</td>\n",
       "      <td>0</td>\n",
       "      <td>66</td>\n",
       "      <td>...</td>\n",
       "      <td>0</td>\n",
       "      <td>0</td>\n",
       "      <td>0</td>\n",
       "      <td>0</td>\n",
       "      <td>0</td>\n",
       "      <td>0</td>\n",
       "      <td>0</td>\n",
       "      <td>0</td>\n",
       "      <td>0</td>\n",
       "      <td>1</td>\n",
       "    </tr>\n",
       "    <tr>\n",
       "      <th>4446964</th>\n",
       "      <td>cc032cdd73b7ac</td>\n",
       "      <td>c2223f35411394</td>\n",
       "      <td>c9c701d0ad758a</td>\n",
       "      <td>0</td>\n",
       "      <td>4</td>\n",
       "      <td>180.40</td>\n",
       "      <td>1</td>\n",
       "      <td>1</td>\n",
       "      <td>2</td>\n",
       "      <td>11</td>\n",
       "      <td>...</td>\n",
       "      <td>0</td>\n",
       "      <td>0</td>\n",
       "      <td>0</td>\n",
       "      <td>0</td>\n",
       "      <td>0</td>\n",
       "      <td>0</td>\n",
       "      <td>0</td>\n",
       "      <td>0</td>\n",
       "      <td>0</td>\n",
       "      <td>1</td>\n",
       "    </tr>\n",
       "    <tr>\n",
       "      <th>4446965</th>\n",
       "      <td>0d8e7ed728b6fd</td>\n",
       "      <td>8c74f72fedf5ff</td>\n",
       "      <td>62a16aabcc095c</td>\n",
       "      <td>0</td>\n",
       "      <td>2</td>\n",
       "      <td>268.00</td>\n",
       "      <td>0</td>\n",
       "      <td>0</td>\n",
       "      <td>1</td>\n",
       "      <td>18</td>\n",
       "      <td>...</td>\n",
       "      <td>0</td>\n",
       "      <td>0</td>\n",
       "      <td>0</td>\n",
       "      <td>0</td>\n",
       "      <td>0</td>\n",
       "      <td>0</td>\n",
       "      <td>0</td>\n",
       "      <td>1</td>\n",
       "      <td>0</td>\n",
       "      <td>0</td>\n",
       "    </tr>\n",
       "  </tbody>\n",
       "</table>\n",
       "<p>4433542 rows × 49 columns</p>\n",
       "</div>"
      ],
      "text/plain": [
       "                     Id         groupId         matchId  assists  boosts  \\\n",
       "0        7f96b2f878858a  4d4b580de459be  a10357fd1a4a91        0       0   \n",
       "1        eef90569b9d03c  684d5656442f9e  aeb375fc57110c        0       0   \n",
       "2        1eaf90ac73de72  6a4a42c3245a74  110163d8bb94ae        1       0   \n",
       "3        4616d365dd2853  a930a9c79cd721  f1f1f4ef412d7e        0       0   \n",
       "4        315c96c26c9aac  de04010b3458dd  6dc8ff871e21e6        0       0   \n",
       "...                 ...             ...             ...      ...     ...   \n",
       "4446961  afff7f652dbc10  d238e426f50de7  18492834ce5635        0       0   \n",
       "4446962  f4197cf374e6c0  408cdb5c46b2ac  ee854b837376d9        0       1   \n",
       "4446963  e1948b1295c88a  e26ac84bdf7cef  6d0cd12784f1ab        0       0   \n",
       "4446964  cc032cdd73b7ac  c2223f35411394  c9c701d0ad758a        0       4   \n",
       "4446965  0d8e7ed728b6fd  8c74f72fedf5ff  62a16aabcc095c        0       2   \n",
       "\n",
       "         damageDealt  DBNOs  headshotKills  heals  killPlace  ...  \\\n",
       "0               0.00      0              0      0         60  ...   \n",
       "1              91.47      0              0      0         57  ...   \n",
       "2              68.00      0              0      0         47  ...   \n",
       "3              32.90      0              0      0         75  ...   \n",
       "4             100.00      0              0      0         45  ...   \n",
       "...              ...    ...            ...    ...        ...  ...   \n",
       "4446961         0.00      0              0      0         74  ...   \n",
       "4446962        44.15      0              0      0         69  ...   \n",
       "4446963        59.06      0              0      0         66  ...   \n",
       "4446964       180.40      1              1      2         11  ...   \n",
       "4446965       268.00      0              0      1         18  ...   \n",
       "\n",
       "         matchType_normal-duo  matchType_normal-duo-fpp  \\\n",
       "0                           0                         0   \n",
       "1                           0                         0   \n",
       "2                           0                         0   \n",
       "3                           0                         0   \n",
       "4                           0                         0   \n",
       "...                       ...                       ...   \n",
       "4446961                     0                         0   \n",
       "4446962                     0                         0   \n",
       "4446963                     0                         0   \n",
       "4446964                     0                         0   \n",
       "4446965                     0                         0   \n",
       "\n",
       "         matchType_normal-solo  matchType_normal-solo-fpp  \\\n",
       "0                            0                          0   \n",
       "1                            0                          0   \n",
       "2                            0                          0   \n",
       "3                            0                          0   \n",
       "4                            0                          0   \n",
       "...                        ...                        ...   \n",
       "4446961                      0                          0   \n",
       "4446962                      0                          0   \n",
       "4446963                      0                          0   \n",
       "4446964                      0                          0   \n",
       "4446965                      0                          0   \n",
       "\n",
       "         matchType_normal-squad  matchType_normal-squad-fpp  matchType_solo  \\\n",
       "0                             0                           0               0   \n",
       "1                             0                           0               0   \n",
       "2                             0                           0               0   \n",
       "3                             0                           0               0   \n",
       "4                             0                           0               0   \n",
       "...                         ...                         ...             ...   \n",
       "4446961                       0                           0               0   \n",
       "4446962                       0                           0               1   \n",
       "4446963                       0                           0               0   \n",
       "4446964                       0                           0               0   \n",
       "4446965                       0                           0               0   \n",
       "\n",
       "         matchType_solo-fpp  matchType_squad  matchType_squad-fpp  \n",
       "0                         0                0                    1  \n",
       "1                         0                0                    1  \n",
       "2                         0                0                    0  \n",
       "3                         0                0                    1  \n",
       "4                         1                0                    0  \n",
       "...                     ...              ...                  ...  \n",
       "4446961                   0                0                    1  \n",
       "4446962                   0                0                    0  \n",
       "4446963                   0                0                    1  \n",
       "4446964                   0                0                    1  \n",
       "4446965                   1                0                    0  \n",
       "\n",
       "[4433542 rows x 49 columns]"
      ]
     },
     "execution_count": 94,
     "metadata": {},
     "output_type": "execute_result"
    }
   ],
   "source": [
    "train"
   ]
  },
  {
   "cell_type": "code",
   "execution_count": 95,
   "id": "f6bc3ace",
   "metadata": {},
   "outputs": [
    {
     "data": {
      "text/plain": [
       "0     612486\n",
       "1     826096\n",
       "2     841768\n",
       "3    1337732\n",
       "4    1754237\n",
       "Name: groupId_cat, dtype: int32"
      ]
     },
     "execution_count": 95,
     "metadata": {},
     "output_type": "execute_result"
    }
   ],
   "source": [
    "#关于groupId,matchId这类型数据，也是类别型数据。但是它们的数据量特别多，如果你使用one-hot编码，无异于自杀。\n",
    "#在这儿我们把它们变成用数字统计的类别型数据依旧不影响我们正常使用。\n",
    "#将字符串型的数据转换为分类数据,下述两行将数据变成从0开始的数字\n",
    "train['groupId'] = train['groupId'].astype('category')\n",
    "train[\"groupId_cat\"] = train[\"groupId\"].cat.codes\n",
    "train[\"groupId_cat\"].head()"
   ]
  },
  {
   "cell_type": "code",
   "execution_count": 96,
   "id": "82933f47",
   "metadata": {},
   "outputs": [
    {
     "data": {
      "text/html": [
       "<div>\n",
       "<style scoped>\n",
       "    .dataframe tbody tr th:only-of-type {\n",
       "        vertical-align: middle;\n",
       "    }\n",
       "\n",
       "    .dataframe tbody tr th {\n",
       "        vertical-align: top;\n",
       "    }\n",
       "\n",
       "    .dataframe thead th {\n",
       "        text-align: right;\n",
       "    }\n",
       "</style>\n",
       "<table border=\"1\" class=\"dataframe\">\n",
       "  <thead>\n",
       "    <tr style=\"text-align: right;\">\n",
       "      <th></th>\n",
       "      <th>groupId_cat</th>\n",
       "      <th>matchId_cat</th>\n",
       "    </tr>\n",
       "  </thead>\n",
       "  <tbody>\n",
       "    <tr>\n",
       "      <th>0</th>\n",
       "      <td>612486</td>\n",
       "      <td>30085</td>\n",
       "    </tr>\n",
       "    <tr>\n",
       "      <th>1</th>\n",
       "      <td>826096</td>\n",
       "      <td>32751</td>\n",
       "    </tr>\n",
       "    <tr>\n",
       "      <th>2</th>\n",
       "      <td>841768</td>\n",
       "      <td>3143</td>\n",
       "    </tr>\n",
       "    <tr>\n",
       "      <th>3</th>\n",
       "      <td>1337732</td>\n",
       "      <td>45260</td>\n",
       "    </tr>\n",
       "    <tr>\n",
       "      <th>4</th>\n",
       "      <td>1754237</td>\n",
       "      <td>20531</td>\n",
       "    </tr>\n",
       "  </tbody>\n",
       "</table>\n",
       "</div>"
      ],
      "text/plain": [
       "   groupId_cat  matchId_cat\n",
       "0       612486        30085\n",
       "1       826096        32751\n",
       "2       841768         3143\n",
       "3      1337732        45260\n",
       "4      1754237        20531"
      ]
     },
     "execution_count": 96,
     "metadata": {},
     "output_type": "execute_result"
    }
   ],
   "source": [
    "# 转换match_id(同上\n",
    "train['matchId'] = train['matchId'].astype('category')\n",
    "\n",
    "train['matchId_cat'] = train['matchId'].cat.codes\n",
    "\n",
    "# 删除之前列\n",
    "train.drop(['groupId', 'matchId'], axis=1, inplace=True)\n",
    "\n",
    "# 查看新产生列\n",
    "train[['groupId_cat', 'matchId_cat']].head()\n"
   ]
  },
  {
   "cell_type": "code",
   "execution_count": 97,
   "id": "aa2f7135",
   "metadata": {},
   "outputs": [
    {
     "data": {
      "text/html": [
       "<div>\n",
       "<style scoped>\n",
       "    .dataframe tbody tr th:only-of-type {\n",
       "        vertical-align: middle;\n",
       "    }\n",
       "\n",
       "    .dataframe tbody tr th {\n",
       "        vertical-align: top;\n",
       "    }\n",
       "\n",
       "    .dataframe thead th {\n",
       "        text-align: right;\n",
       "    }\n",
       "</style>\n",
       "<table border=\"1\" class=\"dataframe\">\n",
       "  <thead>\n",
       "    <tr style=\"text-align: right;\">\n",
       "      <th></th>\n",
       "      <th>Id</th>\n",
       "      <th>assists</th>\n",
       "      <th>boosts</th>\n",
       "      <th>damageDealt</th>\n",
       "      <th>DBNOs</th>\n",
       "      <th>headshotKills</th>\n",
       "      <th>heals</th>\n",
       "      <th>killPlace</th>\n",
       "      <th>killPoints</th>\n",
       "      <th>kills</th>\n",
       "      <th>...</th>\n",
       "      <th>matchType_normal-solo</th>\n",
       "      <th>matchType_normal-solo-fpp</th>\n",
       "      <th>matchType_normal-squad</th>\n",
       "      <th>matchType_normal-squad-fpp</th>\n",
       "      <th>matchType_solo</th>\n",
       "      <th>matchType_solo-fpp</th>\n",
       "      <th>matchType_squad</th>\n",
       "      <th>matchType_squad-fpp</th>\n",
       "      <th>groupId_cat</th>\n",
       "      <th>matchId_cat</th>\n",
       "    </tr>\n",
       "  </thead>\n",
       "  <tbody>\n",
       "    <tr>\n",
       "      <th>0</th>\n",
       "      <td>7f96b2f878858a</td>\n",
       "      <td>0</td>\n",
       "      <td>0</td>\n",
       "      <td>0.00</td>\n",
       "      <td>0</td>\n",
       "      <td>0</td>\n",
       "      <td>0</td>\n",
       "      <td>60</td>\n",
       "      <td>1241</td>\n",
       "      <td>0</td>\n",
       "      <td>...</td>\n",
       "      <td>0</td>\n",
       "      <td>0</td>\n",
       "      <td>0</td>\n",
       "      <td>0</td>\n",
       "      <td>0</td>\n",
       "      <td>0</td>\n",
       "      <td>0</td>\n",
       "      <td>1</td>\n",
       "      <td>612486</td>\n",
       "      <td>30085</td>\n",
       "    </tr>\n",
       "    <tr>\n",
       "      <th>1</th>\n",
       "      <td>eef90569b9d03c</td>\n",
       "      <td>0</td>\n",
       "      <td>0</td>\n",
       "      <td>91.47</td>\n",
       "      <td>0</td>\n",
       "      <td>0</td>\n",
       "      <td>0</td>\n",
       "      <td>57</td>\n",
       "      <td>0</td>\n",
       "      <td>0</td>\n",
       "      <td>...</td>\n",
       "      <td>0</td>\n",
       "      <td>0</td>\n",
       "      <td>0</td>\n",
       "      <td>0</td>\n",
       "      <td>0</td>\n",
       "      <td>0</td>\n",
       "      <td>0</td>\n",
       "      <td>1</td>\n",
       "      <td>826096</td>\n",
       "      <td>32751</td>\n",
       "    </tr>\n",
       "    <tr>\n",
       "      <th>2</th>\n",
       "      <td>1eaf90ac73de72</td>\n",
       "      <td>1</td>\n",
       "      <td>0</td>\n",
       "      <td>68.00</td>\n",
       "      <td>0</td>\n",
       "      <td>0</td>\n",
       "      <td>0</td>\n",
       "      <td>47</td>\n",
       "      <td>0</td>\n",
       "      <td>0</td>\n",
       "      <td>...</td>\n",
       "      <td>0</td>\n",
       "      <td>0</td>\n",
       "      <td>0</td>\n",
       "      <td>0</td>\n",
       "      <td>0</td>\n",
       "      <td>0</td>\n",
       "      <td>0</td>\n",
       "      <td>0</td>\n",
       "      <td>841768</td>\n",
       "      <td>3143</td>\n",
       "    </tr>\n",
       "    <tr>\n",
       "      <th>3</th>\n",
       "      <td>4616d365dd2853</td>\n",
       "      <td>0</td>\n",
       "      <td>0</td>\n",
       "      <td>32.90</td>\n",
       "      <td>0</td>\n",
       "      <td>0</td>\n",
       "      <td>0</td>\n",
       "      <td>75</td>\n",
       "      <td>0</td>\n",
       "      <td>0</td>\n",
       "      <td>...</td>\n",
       "      <td>0</td>\n",
       "      <td>0</td>\n",
       "      <td>0</td>\n",
       "      <td>0</td>\n",
       "      <td>0</td>\n",
       "      <td>0</td>\n",
       "      <td>0</td>\n",
       "      <td>1</td>\n",
       "      <td>1337732</td>\n",
       "      <td>45260</td>\n",
       "    </tr>\n",
       "    <tr>\n",
       "      <th>4</th>\n",
       "      <td>315c96c26c9aac</td>\n",
       "      <td>0</td>\n",
       "      <td>0</td>\n",
       "      <td>100.00</td>\n",
       "      <td>0</td>\n",
       "      <td>0</td>\n",
       "      <td>0</td>\n",
       "      <td>45</td>\n",
       "      <td>0</td>\n",
       "      <td>1</td>\n",
       "      <td>...</td>\n",
       "      <td>0</td>\n",
       "      <td>0</td>\n",
       "      <td>0</td>\n",
       "      <td>0</td>\n",
       "      <td>0</td>\n",
       "      <td>1</td>\n",
       "      <td>0</td>\n",
       "      <td>0</td>\n",
       "      <td>1754237</td>\n",
       "      <td>20531</td>\n",
       "    </tr>\n",
       "  </tbody>\n",
       "</table>\n",
       "<p>5 rows × 49 columns</p>\n",
       "</div>"
      ],
      "text/plain": [
       "               Id  assists  boosts  damageDealt  DBNOs  headshotKills  heals  \\\n",
       "0  7f96b2f878858a        0       0         0.00      0              0      0   \n",
       "1  eef90569b9d03c        0       0        91.47      0              0      0   \n",
       "2  1eaf90ac73de72        1       0        68.00      0              0      0   \n",
       "3  4616d365dd2853        0       0        32.90      0              0      0   \n",
       "4  315c96c26c9aac        0       0       100.00      0              0      0   \n",
       "\n",
       "   killPlace  killPoints  kills  ...  matchType_normal-solo  \\\n",
       "0         60        1241      0  ...                      0   \n",
       "1         57           0      0  ...                      0   \n",
       "2         47           0      0  ...                      0   \n",
       "3         75           0      0  ...                      0   \n",
       "4         45           0      1  ...                      0   \n",
       "\n",
       "   matchType_normal-solo-fpp  matchType_normal-squad  \\\n",
       "0                          0                       0   \n",
       "1                          0                       0   \n",
       "2                          0                       0   \n",
       "3                          0                       0   \n",
       "4                          0                       0   \n",
       "\n",
       "   matchType_normal-squad-fpp  matchType_solo  matchType_solo-fpp  \\\n",
       "0                           0               0                   0   \n",
       "1                           0               0                   0   \n",
       "2                           0               0                   0   \n",
       "3                           0               0                   0   \n",
       "4                           0               0                   1   \n",
       "\n",
       "   matchType_squad  matchType_squad-fpp  groupId_cat  matchId_cat  \n",
       "0                0                    1       612486        30085  \n",
       "1                0                    1       826096        32751  \n",
       "2                0                    0       841768         3143  \n",
       "3                0                    1      1337732        45260  \n",
       "4                0                    0      1754237        20531  \n",
       "\n",
       "[5 rows x 49 columns]"
      ]
     },
     "execution_count": 97,
     "metadata": {},
     "output_type": "execute_result"
    }
   ],
   "source": [
    "train.head()"
   ]
  },
  {
   "cell_type": "code",
   "execution_count": 98,
   "id": "e81b2e7c",
   "metadata": {},
   "outputs": [
    {
     "data": {
      "text/plain": [
       "(4433542, 49)"
      ]
     },
     "execution_count": 98,
     "metadata": {},
     "output_type": "execute_result"
    }
   ],
   "source": [
    "train.shape"
   ]
  },
  {
   "cell_type": "code",
   "execution_count": 104,
   "id": "21668a77",
   "metadata": {},
   "outputs": [
    {
     "data": {
      "text/plain": [
       "0    0.4444\n",
       "1    0.6400\n",
       "2    0.7755\n",
       "3    0.1667\n",
       "4    0.1875\n",
       "Name: winPlacePerc, dtype: float64"
      ]
     },
     "execution_count": 104,
     "metadata": {},
     "output_type": "execute_result"
    }
   ],
   "source": [
    "# 确定特征值和目标值\n",
    "x = train.drop([\"winPlacePerc\", \"Id\"], axis=1) #特征值\n",
    "\n",
    "y = train['winPlacePerc'] # target\n",
    "y.head()"
   ]
  },
  {
   "cell_type": "code",
   "execution_count": 105,
   "id": "2e033a32",
   "metadata": {},
   "outputs": [
    {
     "data": {
      "text/plain": [
       "(4433542, 47)"
      ]
     },
     "execution_count": 105,
     "metadata": {},
     "output_type": "execute_result"
    }
   ],
   "source": [
    "x.shape"
   ]
  },
  {
   "cell_type": "markdown",
   "id": "b81dc370",
   "metadata": {},
   "source": [
    "模型训练\n",
    "  1.RF模型"
   ]
  },
  {
   "cell_type": "code",
   "execution_count": 106,
   "id": "1898b890",
   "metadata": {},
   "outputs": [],
   "source": [
    "#数据分割\n",
    "X_train, X_valid, y_train, y_valid = train_test_split(df, y, test_size=0.2)\n"
   ]
  },
  {
   "cell_type": "code",
   "execution_count": 108,
   "id": "d39fbd69",
   "metadata": {},
   "outputs": [
    {
     "data": {
      "text/html": [
       "<style>#sk-container-id-1 {color: black;}#sk-container-id-1 pre{padding: 0;}#sk-container-id-1 div.sk-toggleable {background-color: white;}#sk-container-id-1 label.sk-toggleable__label {cursor: pointer;display: block;width: 100%;margin-bottom: 0;padding: 0.3em;box-sizing: border-box;text-align: center;}#sk-container-id-1 label.sk-toggleable__label-arrow:before {content: \"▸\";float: left;margin-right: 0.25em;color: #696969;}#sk-container-id-1 label.sk-toggleable__label-arrow:hover:before {color: black;}#sk-container-id-1 div.sk-estimator:hover label.sk-toggleable__label-arrow:before {color: black;}#sk-container-id-1 div.sk-toggleable__content {max-height: 0;max-width: 0;overflow: hidden;text-align: left;background-color: #f0f8ff;}#sk-container-id-1 div.sk-toggleable__content pre {margin: 0.2em;color: black;border-radius: 0.25em;background-color: #f0f8ff;}#sk-container-id-1 input.sk-toggleable__control:checked~div.sk-toggleable__content {max-height: 200px;max-width: 100%;overflow: auto;}#sk-container-id-1 input.sk-toggleable__control:checked~label.sk-toggleable__label-arrow:before {content: \"▾\";}#sk-container-id-1 div.sk-estimator input.sk-toggleable__control:checked~label.sk-toggleable__label {background-color: #d4ebff;}#sk-container-id-1 div.sk-label input.sk-toggleable__control:checked~label.sk-toggleable__label {background-color: #d4ebff;}#sk-container-id-1 input.sk-hidden--visually {border: 0;clip: rect(1px 1px 1px 1px);clip: rect(1px, 1px, 1px, 1px);height: 1px;margin: -1px;overflow: hidden;padding: 0;position: absolute;width: 1px;}#sk-container-id-1 div.sk-estimator {font-family: monospace;background-color: #f0f8ff;border: 1px dotted black;border-radius: 0.25em;box-sizing: border-box;margin-bottom: 0.5em;}#sk-container-id-1 div.sk-estimator:hover {background-color: #d4ebff;}#sk-container-id-1 div.sk-parallel-item::after {content: \"\";width: 100%;border-bottom: 1px solid gray;flex-grow: 1;}#sk-container-id-1 div.sk-label:hover label.sk-toggleable__label {background-color: #d4ebff;}#sk-container-id-1 div.sk-serial::before {content: \"\";position: absolute;border-left: 1px solid gray;box-sizing: border-box;top: 0;bottom: 0;left: 50%;z-index: 0;}#sk-container-id-1 div.sk-serial {display: flex;flex-direction: column;align-items: center;background-color: white;padding-right: 0.2em;padding-left: 0.2em;position: relative;}#sk-container-id-1 div.sk-item {position: relative;z-index: 1;}#sk-container-id-1 div.sk-parallel {display: flex;align-items: stretch;justify-content: center;background-color: white;position: relative;}#sk-container-id-1 div.sk-item::before, #sk-container-id-1 div.sk-parallel-item::before {content: \"\";position: absolute;border-left: 1px solid gray;box-sizing: border-box;top: 0;bottom: 0;left: 50%;z-index: -1;}#sk-container-id-1 div.sk-parallel-item {display: flex;flex-direction: column;z-index: 1;position: relative;background-color: white;}#sk-container-id-1 div.sk-parallel-item:first-child::after {align-self: flex-end;width: 50%;}#sk-container-id-1 div.sk-parallel-item:last-child::after {align-self: flex-start;width: 50%;}#sk-container-id-1 div.sk-parallel-item:only-child::after {width: 0;}#sk-container-id-1 div.sk-dashed-wrapped {border: 1px dashed gray;margin: 0 0.4em 0.5em 0.4em;box-sizing: border-box;padding-bottom: 0.4em;background-color: white;}#sk-container-id-1 div.sk-label label {font-family: monospace;font-weight: bold;display: inline-block;line-height: 1.2em;}#sk-container-id-1 div.sk-label-container {text-align: center;}#sk-container-id-1 div.sk-container {/* jupyter's `normalize.less` sets `[hidden] { display: none; }` but bootstrap.min.css set `[hidden] { display: none !important; }` so we also need the `!important` here to be able to override the default hidden behavior on the sphinx rendered scikit-learn.org. See: https://github.com/scikit-learn/scikit-learn/issues/21755 */display: inline-block !important;position: relative;}#sk-container-id-1 div.sk-text-repr-fallback {display: none;}</style><div id=\"sk-container-id-1\" class=\"sk-top-container\"><div class=\"sk-text-repr-fallback\"><pre>RandomForestRegressor(max_features=&#x27;sqrt&#x27;, min_samples_leaf=3, n_estimators=40,\n",
       "                      n_jobs=-1)</pre><b>In a Jupyter environment, please rerun this cell to show the HTML representation or trust the notebook. <br />On GitHub, the HTML representation is unable to render, please try loading this page with nbviewer.org.</b></div><div class=\"sk-container\" hidden><div class=\"sk-item\"><div class=\"sk-estimator sk-toggleable\"><input class=\"sk-toggleable__control sk-hidden--visually\" id=\"sk-estimator-id-1\" type=\"checkbox\" checked><label for=\"sk-estimator-id-1\" class=\"sk-toggleable__label sk-toggleable__label-arrow\">RandomForestRegressor</label><div class=\"sk-toggleable__content\"><pre>RandomForestRegressor(max_features=&#x27;sqrt&#x27;, min_samples_leaf=3, n_estimators=40,\n",
       "                      n_jobs=-1)</pre></div></div></div></div></div>"
      ],
      "text/plain": [
       "RandomForestRegressor(max_features='sqrt', min_samples_leaf=3, n_estimators=40,\n",
       "                      n_jobs=-1)"
      ]
     },
     "execution_count": 108,
     "metadata": {},
     "output_type": "execute_result"
    }
   ],
   "source": [
    "# 模型训练\n",
    "from sklearn.ensemble import RandomForestRegressor\n",
    "m1 = RandomForestRegressor(n_estimators=40, \n",
    "                           min_samples_leaf=3, \n",
    "                           max_features='sqrt',\n",
    "                           n_jobs=-1)\n",
    "\n",
    "m1.fit(X_train, y_train)\n"
   ]
  },
  {
   "cell_type": "code",
   "execution_count": 110,
   "id": "e8524b2d",
   "metadata": {},
   "outputs": [
    {
     "name": "stdout",
     "output_type": "stream",
     "text": [
      "0.9230867436715275\n",
      "0.06049533416907304\n"
     ]
    }
   ],
   "source": [
    "y_pre = m1.predict(X_valid)\n",
    "print(m1.score(X_valid, y_valid))#模型准确率约为0.923\n",
    "print(mean_absolute_error(y_true=y_valid, y_pred=y_pre))#mae=0.060"
   ]
  },
  {
   "cell_type": "code",
   "execution_count": 111,
   "id": "16360a0f",
   "metadata": {},
   "outputs": [
    {
     "data": {
      "text/plain": [
       "array([3.56240798e-03, 1.13294405e-01, 1.96199961e-02, 3.50574520e-03,\n",
       "       8.71970449e-04, 3.31430762e-02, 1.50120134e-01, 2.19282757e-03,\n",
       "       1.74717825e-02, 8.06190847e-03, 2.79442152e-02, 1.66232715e-02,\n",
       "       7.51092990e-03, 9.09685287e-03, 3.83927647e-03, 1.06956694e-03,\n",
       "       3.02789287e-02, 1.79409899e-05, 4.91399156e-03, 1.88577400e-04,\n",
       "       1.76306290e-04, 2.01043016e-01, 1.08468165e-01, 2.60100088e-03,\n",
       "       7.90902412e-03, 4.29651673e-02, 1.64833223e-01, 0.00000000e+00,\n",
       "       3.66553791e-03, 5.97980691e-05, 1.54886169e-06, 2.86337568e-04,\n",
       "       7.13683315e-04, 1.26669793e-06, 6.74172417e-06, 5.46369295e-07,\n",
       "       1.52811820e-04, 7.98841777e-07, 2.06404362e-05, 1.81242852e-06,\n",
       "       3.71666434e-04, 3.62306696e-04, 1.53276701e-03, 1.46048286e-03,\n",
       "       1.14475954e-03, 4.44382675e-03, 4.44895894e-03])"
      ]
     },
     "execution_count": 111,
     "metadata": {},
     "output_type": "execute_result"
    }
   ],
   "source": [
    "# 查看特征值在当前模型中的重要程度\n",
    "m1.feature_importances_"
   ]
  },
  {
   "cell_type": "code",
   "execution_count": 112,
   "id": "f14b9fea",
   "metadata": {},
   "outputs": [
    {
     "data": {
      "image/png": "[encoded data removed]",
      "text/plain": [
       "<Figure size 1440x576 with 1 Axes>"
      ]
     },
     "metadata": {},
     "output_type": "display_data"
    }
   ],
   "source": [
    "imp_df = pd.DataFrame({\"cols\":df.columns, \"imp\":m1.feature_importances_})\n",
    "imp_df = imp_df.sort_values(\"imp\", ascending=False) #排序\n",
    "# 绘制特征重要性程度图，仅展示排名前二十的特征\n",
    "imp_df[:20].plot('cols', 'imp', figsize=(20,8), kind = 'barh')\n",
    "plt.show()"
   ]
  },
  {
   "cell_type": "code",
   "execution_count": 113,
   "id": "17959651",
   "metadata": {
    "scrolled": true
   },
   "outputs": [
    {
     "name": "stdout",
     "output_type": "stream",
     "text": [
      "Significant features:  16\n"
     ]
    },
    {
     "data": {
      "text/plain": [
       "21       walkDistance\n",
       "26      totalDistance\n",
       "6           killPlace\n",
       "1              boosts\n",
       "22    weaponsAcquired\n",
       "25     healsandboosts\n",
       "5               heals\n",
       "16       rideDistance\n",
       "10        longestKill\n",
       "2         damageDealt\n",
       "8               kills\n",
       "11      matchDuration\n",
       "13          numGroups\n",
       "9         killStreaks\n",
       "24      playersJoined\n",
       "12           maxPlace\n",
       "Name: cols, dtype: object"
      ]
     },
     "execution_count": 113,
     "metadata": {},
     "output_type": "execute_result"
    }
   ],
   "source": [
    "# 保留比较重要的特征\n",
    "to_keep = imp_df[imp_df.imp>0.005].cols\n",
    "print('Significant features: ', len(to_keep))\n",
    "to_keep"
   ]
  },
  {
   "cell_type": "code",
   "execution_count": 115,
   "id": "3d534722",
   "metadata": {},
   "outputs": [
    {
     "data": {
      "text/plain": [
       "(4433542, 16)"
      ]
     },
     "execution_count": 115,
     "metadata": {},
     "output_type": "execute_result"
    }
   ],
   "source": [
    "# 由这些比较重要的特征值，生成新的df\n",
    "df[to_keep].shape #仅保留了16个特征\n"
   ]
  },
  {
   "cell_type": "code",
   "execution_count": 118,
   "id": "fdb670c5",
   "metadata": {},
   "outputs": [
    {
     "data": {
      "text/html": [
       "<style>#sk-container-id-3 {color: black;}#sk-container-id-3 pre{padding: 0;}#sk-container-id-3 div.sk-toggleable {background-color: white;}#sk-container-id-3 label.sk-toggleable__label {cursor: pointer;display: block;width: 100%;margin-bottom: 0;padding: 0.3em;box-sizing: border-box;text-align: center;}#sk-container-id-3 label.sk-toggleable__label-arrow:before {content: \"▸\";float: left;margin-right: 0.25em;color: #696969;}#sk-container-id-3 label.sk-toggleable__label-arrow:hover:before {color: black;}#sk-container-id-3 div.sk-estimator:hover label.sk-toggleable__label-arrow:before {color: black;}#sk-container-id-3 div.sk-toggleable__content {max-height: 0;max-width: 0;overflow: hidden;text-align: left;background-color: #f0f8ff;}#sk-container-id-3 div.sk-toggleable__content pre {margin: 0.2em;color: black;border-radius: 0.25em;background-color: #f0f8ff;}#sk-container-id-3 input.sk-toggleable__control:checked~div.sk-toggleable__content {max-height: 200px;max-width: 100%;overflow: auto;}#sk-container-id-3 input.sk-toggleable__control:checked~label.sk-toggleable__label-arrow:before {content: \"▾\";}#sk-container-id-3 div.sk-estimator input.sk-toggleable__control:checked~label.sk-toggleable__label {background-color: #d4ebff;}#sk-container-id-3 div.sk-label input.sk-toggleable__control:checked~label.sk-toggleable__label {background-color: #d4ebff;}#sk-container-id-3 input.sk-hidden--visually {border: 0;clip: rect(1px 1px 1px 1px);clip: rect(1px, 1px, 1px, 1px);height: 1px;margin: -1px;overflow: hidden;padding: 0;position: absolute;width: 1px;}#sk-container-id-3 div.sk-estimator {font-family: monospace;background-color: #f0f8ff;border: 1px dotted black;border-radius: 0.25em;box-sizing: border-box;margin-bottom: 0.5em;}#sk-container-id-3 div.sk-estimator:hover {background-color: #d4ebff;}#sk-container-id-3 div.sk-parallel-item::after {content: \"\";width: 100%;border-bottom: 1px solid gray;flex-grow: 1;}#sk-container-id-3 div.sk-label:hover label.sk-toggleable__label {background-color: #d4ebff;}#sk-container-id-3 div.sk-serial::before {content: \"\";position: absolute;border-left: 1px solid gray;box-sizing: border-box;top: 0;bottom: 0;left: 50%;z-index: 0;}#sk-container-id-3 div.sk-serial {display: flex;flex-direction: column;align-items: center;background-color: white;padding-right: 0.2em;padding-left: 0.2em;position: relative;}#sk-container-id-3 div.sk-item {position: relative;z-index: 1;}#sk-container-id-3 div.sk-parallel {display: flex;align-items: stretch;justify-content: center;background-color: white;position: relative;}#sk-container-id-3 div.sk-item::before, #sk-container-id-3 div.sk-parallel-item::before {content: \"\";position: absolute;border-left: 1px solid gray;box-sizing: border-box;top: 0;bottom: 0;left: 50%;z-index: -1;}#sk-container-id-3 div.sk-parallel-item {display: flex;flex-direction: column;z-index: 1;position: relative;background-color: white;}#sk-container-id-3 div.sk-parallel-item:first-child::after {align-self: flex-end;width: 50%;}#sk-container-id-3 div.sk-parallel-item:last-child::after {align-self: flex-start;width: 50%;}#sk-container-id-3 div.sk-parallel-item:only-child::after {width: 0;}#sk-container-id-3 div.sk-dashed-wrapped {border: 1px dashed gray;margin: 0 0.4em 0.5em 0.4em;box-sizing: border-box;padding-bottom: 0.4em;background-color: white;}#sk-container-id-3 div.sk-label label {font-family: monospace;font-weight: bold;display: inline-block;line-height: 1.2em;}#sk-container-id-3 div.sk-label-container {text-align: center;}#sk-container-id-3 div.sk-container {/* jupyter's `normalize.less` sets `[hidden] { display: none; }` but bootstrap.min.css set `[hidden] { display: none !important; }` so we also need the `!important` here to be able to override the default hidden behavior on the sphinx rendered scikit-learn.org. See: https://github.com/scikit-learn/scikit-learn/issues/21755 */display: inline-block !important;position: relative;}#sk-container-id-3 div.sk-text-repr-fallback {display: none;}</style><div id=\"sk-container-id-3\" class=\"sk-top-container\"><div class=\"sk-text-repr-fallback\"><pre>RandomForestRegressor(max_features=&#x27;sqrt&#x27;, min_samples_leaf=3, n_estimators=40,\n",
       "                      n_jobs=-1)</pre><b>In a Jupyter environment, please rerun this cell to show the HTML representation or trust the notebook. <br />On GitHub, the HTML representation is unable to render, please try loading this page with nbviewer.org.</b></div><div class=\"sk-container\" hidden><div class=\"sk-item\"><div class=\"sk-estimator sk-toggleable\"><input class=\"sk-toggleable__control sk-hidden--visually\" id=\"sk-estimator-id-3\" type=\"checkbox\" checked><label for=\"sk-estimator-id-3\" class=\"sk-toggleable__label sk-toggleable__label-arrow\">RandomForestRegressor</label><div class=\"sk-toggleable__content\"><pre>RandomForestRegressor(max_features=&#x27;sqrt&#x27;, min_samples_leaf=3, n_estimators=40,\n",
       "                      n_jobs=-1)</pre></div></div></div></div></div>"
      ],
      "text/plain": [
       "RandomForestRegressor(max_features='sqrt', min_samples_leaf=3, n_estimators=40,\n",
       "                      n_jobs=-1)"
      ]
     },
     "execution_count": 118,
     "metadata": {},
     "output_type": "execute_result"
    }
   ],
   "source": [
    "# 新模型训练\n",
    "m2 = RandomForestRegressor(n_estimators=40, min_samples_leaf=3, max_features='sqrt',\n",
    "                          n_jobs=-1)\n",
    "\n",
    "m2.fit(X_train, y_train)\n"
   ]
  },
  {
   "cell_type": "markdown",
   "id": "b43043d3",
   "metadata": {},
   "source": [
    "# 模型评分\n",
    "y_pre = m2.predict(X_valid)"
   ]
  },
  {
   "cell_type": "code",
   "execution_count": 122,
   "id": "8439ecf6",
   "metadata": {},
   "outputs": [
    {
     "name": "stdout",
     "output_type": "stream",
     "text": [
      "0.9233182739912109\n",
      "0.060224476450149084\n"
     ]
    }
   ],
   "source": [
    "print(m2.score(X_valid, y_valid))\n",
    "print(mean_absolute_error(y_true=y_valid, y_pred=y_pre))\n",
    "'''\n",
    "原49个特征的准确率=0.9230867436715275\n",
    "原49个特征的mae=0.06049533416907304\n",
    "新结果比原结果更好,显然防止了过拟合\n",
    "'''"
   ]
  },
  {
   "cell_type": "code",
   "execution_count": 124,
   "id": "41bc71b5",
   "metadata": {},
   "outputs": [
    {
     "name": "stdout",
     "output_type": "stream",
     "text": [
      "                          cols           imp\n",
      "21                walkDistance  2.010430e-01\n",
      "26               totalDistance  1.648332e-01\n",
      "6                    killPlace  1.501201e-01\n",
      "1                       boosts  1.132944e-01\n",
      "22             weaponsAcquired  1.084682e-01\n",
      "25              healsandboosts  4.296517e-02\n",
      "5                        heals  3.314308e-02\n",
      "16                rideDistance  3.027893e-02\n",
      "10                 longestKill  2.794422e-02\n",
      "2                  damageDealt  1.962000e-02\n",
      "8                        kills  1.747178e-02\n",
      "11               matchDuration  1.662327e-02\n",
      "13                   numGroups  9.096853e-03\n",
      "9                  killStreaks  8.061908e-03\n",
      "24               playersJoined  7.909024e-03\n",
      "12                    maxPlace  7.510930e-03\n",
      "18                swimDistance  4.913992e-03\n",
      "46                 matchId_cat  4.448959e-03\n",
      "45                 groupId_cat  4.443827e-03\n",
      "14                  rankPoints  3.839276e-03\n",
      "28               headshot_rate  3.665538e-03\n",
      "0                      assists  3.562408e-03\n",
      "3                        DBNOs  3.505745e-03\n",
      "23                   winPoints  2.601001e-03\n",
      "7                   killPoints  2.192828e-03\n",
      "42          matchType_solo-fpp  1.532767e-03\n",
      "43             matchType_squad  1.460483e-03\n",
      "44         matchType_squad-fpp  1.144760e-03\n",
      "15                     revives  1.069567e-03\n",
      "4                headshotKills  8.719704e-04\n",
      "32           matchType_duo-fpp  7.136833e-04\n",
      "40  matchType_normal-squad-fpp  3.716664e-04\n",
      "41              matchType_solo  3.623067e-04\n",
      "31               matchType_duo  2.863376e-04\n",
      "19                   teamKills  1.885774e-04\n",
      "20             vehicleDestroys  1.763063e-04\n",
      "36    matchType_normal-duo-fpp  1.528118e-04\n",
      "29          matchType_crashfpp  5.979807e-05\n",
      "38   matchType_normal-solo-fpp  2.064044e-05\n",
      "17                   roadKills  1.794099e-05\n",
      "34          matchType_flaretpp  6.741724e-06\n",
      "39      matchType_normal-squad  1.812429e-06\n",
      "30          matchType_crashtpp  1.548862e-06\n",
      "33          matchType_flarefpp  1.266698e-06\n",
      "37       matchType_normal-solo  7.988418e-07\n",
      "35        matchType_normal-duo  5.463693e-07\n",
      "27          killsWithoutMoving  0.000000e+00\n"
     ]
    }
   ],
   "source": [
    "print(imp_df)#各元素对模型预测结果的影响程度"
   ]
  },
  {
   "cell_type": "code",
   "execution_count": null,
   "id": "d3edd548",
   "metadata": {},
   "outputs": [],
   "source": []
  }
 ],
 "metadata": {
  "kernelspec": {
   "display_name": "Python 3",
   "language": "python",
   "name": "python3"
  },
  "language_info": {
   "codemirror_mode": {
    "name": "ipython",
    "version": 3
   },
   "file_extension": ".py",
   "mimetype": "text/x-python",
   "name": "python",
   "nbconvert_exporter": "python",
   "pygments_lexer": "ipython3",
   "version": "3.8.8"
  }
 },
 "nbformat": 4,
 "nbformat_minor": 5
}
