{
 "cells": [
  {
   "cell_type": "code",
   "execution_count": 2,
   "id": "bc039a21ad6110b5",
   "metadata": {
    "ExecuteTime": {
     "start_time": "2025-03-04T09:02:23.480361Z"
    },
    "jupyter": {
     "is_executing": true
    }
   },
   "outputs": [
    {
     "data": {
      "text/plain": [
       "'\\norder._products._prior..csv:订单与商品信息\\n字段：order_.id,product_id,add_to_cart_order,,reordered\\nproducts.csv:商品信息\\n字段：product_.id,product_name,aisle,_id,department_.id\\norders..csv:用户的订单信息\\n字段：order_id,user_id,eval_set,order_.number,.\\naisles.csv:商品所属具体物品类别\\n字段：aisle_id,aisle\\n'"
      ]
     },
     "execution_count": 2,
     "metadata": {},
     "output_type": "execute_result"
    }
   ],
   "source": [
    "import pandas as pd\n",
    "#数据读取\n",
    "order_product = pd.read_csv('./Instacart_dataset/order_products__prior.csv')\n",
    "products = pd.read_csv('./Instacart_dataset/products.csv')\n",
    "orders = pd.read_csv('./Instacart_dataset/orders.csv')\n",
    "aisles = pd.read_csv('./Instacart_dataset/aisles.csv')\n",
    "'''\n",
    "order._products._prior..csv:订单与商品信息\n",
    "字段：order_.id,product_id,add_to_cart_order,,reordered\n",
    "products.csv:商品信息\n",
    "字段：product_.id,product_name,aisle,_id,department_.id\n",
    "orders..csv:用户的订单信息\n",
    "字段：order_id,user_id,eval_set,order_.number,.\n",
    "aisles.csv:商品所属具体物品类别\n",
    "字段：aisle_id,aisle\n",
    "'''"
   ]
  },
  {
   "cell_type": "code",
   "execution_count": 3,
   "id": "initial_id",
   "metadata": {},
   "outputs": [
    {
     "name": "stdout",
     "output_type": "stream",
     "text": [
      "(32434489, 14)\n",
      "(206209, 134)\n"
     ]
    }
   ],
   "source": [
    "# 2.1 合并表格\n",
    "table1 = pd.merge(order_product, products, on=[\"product_id\", \"product_id\"])\n",
    "table2 = pd.merge(table1, orders, on=[\"order_id\", \"order_id\"])\n",
    "table = pd.merge(table2, aisles, on=[\"aisle_id\", \"aisle_id\"])\n",
    "#on=[]即以那一列为不变量进行表格合并\n",
    "# 2.2 交叉表合并\n",
    "print(table.shape)\n",
    "data = pd.crosstab(table[\"user_id\"], table[\"aisle\"])\n",
    "print(table.shape)"
   ]
  },
  {
   "cell_type": "code",
   "execution_count": 6,
   "id": "3fe005d6",
   "metadata": {},
   "outputs": [],
   "source": [
    "data=data[:1000]#减少数据量,后面想尝试完整数据时可以注释掉"
   ]
  },
  {
   "cell_type": "code",
   "execution_count": 8,
   "id": "f748d251",
   "metadata": {},
   "outputs": [
    {
     "data": {
      "text/plain": [
       "(1000, 134)"
      ]
     },
     "execution_count": 8,
     "metadata": {},
     "output_type": "execute_result"
    }
   ],
   "source": [
    "data.shape #pac前特征数:134"
   ]
  },
  {
   "cell_type": "code",
   "execution_count": 9,
   "id": "3f7a290b",
   "metadata": {},
   "outputs": [
    {
     "name": "stderr",
     "output_type": "stream",
     "text": [
      "C:\\Users\\Administrator\\anaconda3\\lib\\site-packages\\scipy\\__init__.py:138: UserWarning: A NumPy version >=1.16.5 and <1.23.0 is required for this version of SciPy (detected version 1.23.5)\n",
      "  warnings.warn(f\"A NumPy version >={np_minversion} and <{np_maxversion} is required for this version of \"\n"
     ]
    }
   ],
   "source": [
    "from sklearn.decomposition import PCA\n",
    "transfer = PCA(n_components=0.9)#\n",
    "trans_data = transfer.fit_transform(data)"
   ]
  },
  {
   "cell_type": "code",
   "execution_count": 10,
   "id": "5c1dfc19",
   "metadata": {},
   "outputs": [
    {
     "data": {
      "text/plain": [
       "(1000, 22)"
      ]
     },
     "execution_count": 10,
     "metadata": {},
     "output_type": "execute_result"
    }
   ],
   "source": [
    "trans_data.shape #仅使用22个特征即可保留90%的信息"
   ]
  },
  {
   "cell_type": "code",
   "execution_count": 12,
   "id": "6c41f642",
   "metadata": {},
   "outputs": [
    {
     "name": "stderr",
     "output_type": "stream",
     "text": [
      "C:\\Users\\Administrator\\anaconda3\\lib\\site-packages\\sklearn\\cluster\\_kmeans.py:1416: FutureWarning: The default value of `n_init` will change from 10 to 'auto' in 1.4. Set the value of `n_init` explicitly to suppress the warning\n",
      "  super()._check_params_vs_input(X, default_n_init=10)\n",
      "C:\\Users\\Administrator\\anaconda3\\lib\\site-packages\\sklearn\\cluster\\_kmeans.py:1440: UserWarning: KMeans is known to have a memory leak on Windows with MKL, when there are less chunks than available threads. You can avoid it by setting the environment variable OMP_NUM_THREADS=4.\n",
      "  warnings.warn(\n"
     ]
    },
    {
     "data": {
      "text/plain": [
       "262.3762201594582"
      ]
     },
     "execution_count": 12,
     "metadata": {},
     "output_type": "execute_result"
    }
   ],
   "source": [
    "from sklearn.metrics import calinski_harabasz_score,silhouette_score\n",
    "from sklearn.cluster import KMeans\n",
    "estimator = KMeans(n_clusters=5)\n",
    "y_pre = estimator.fit_predict(trans_data)\n",
    "silhouette_score(trans_data, y_pre)  # 越渐进\n",
    "calinski_harabasz_score(trans_data, y_pre)"
   ]
  },
  {
   "cell_type": "code",
   "execution_count": 13,
   "id": "7c3dda60",
   "metadata": {},
   "outputs": [
    {
     "data": {
      "text/plain": [
       "0.4498839353191301"
      ]
     },
     "execution_count": 13,
     "metadata": {},
     "output_type": "execute_result"
    }
   ],
   "source": [
    "silhouette_score(trans_data, y_pre)"
   ]
  },
  {
   "cell_type": "code",
   "execution_count": null,
   "id": "415cf3eb",
   "metadata": {},
   "outputs": [],
   "source": []
  }
 ],
 "metadata": {
  "kernelspec": {
   "display_name": "Python 3",
   "language": "python",
   "name": "python3"
  },
  "language_info": {
   "codemirror_mode": {
    "name": "ipython",
    "version": 3
   },
   "file_extension": ".py",
   "mimetype": "text/x-python",
   "name": "python",
   "nbconvert_exporter": "python",
   "pygments_lexer": "ipython3",
   "version": "3.8.8"
  }
 },
 "nbformat": 4,
 "nbformat_minor": 5
}
